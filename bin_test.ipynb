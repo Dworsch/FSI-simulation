{
 "cells": [
  {
   "cell_type": "code",
   "execution_count": 1,
   "metadata": {},
   "outputs": [],
   "source": [
    "import numpy as np\n",
    "import matplotlib.pyplot as plt\n",
    "import random\n",
    "import misc"
   ]
  },
  {
   "cell_type": "code",
   "execution_count": 2,
   "metadata": {},
   "outputs": [],
   "source": [
    "avgPhotonsPerImage = 15\n",
    "seed = random.randint(1,70)\n",
    "h_pixelsInBin = 2\n",
    "v_pixelsInBin = 2"
   ]
  },
  {
   "cell_type": "code",
   "execution_count": 3,
   "metadata": {},
   "outputs": [],
   "source": [
    "def gaus(x, m, s):\n",
    "    return (1/(s*np.sqrt(2*np.pi))*np.exp(-(x-m)**2/(2*s**2)))                            "
   ]
  },
  {
   "cell_type": "code",
   "execution_count": 4,
   "metadata": {},
   "outputs": [],
   "source": [
    "def bins(originalImage, pixelsInBin):\n",
    "    binned = []\n",
    "    for rowi, row in enumerate(originalImage):\n",
    "        for coli in range(0, len(row), pixelsInBin):\n",
    "            binned.append(singleBinH(originalImage, rowi, coli, pixelsInBin))\n",
    "        \n",
    "\n",
    "    floats = [float(m) for m in binned]\n",
    "    binning = np.reshape(floats, (originalImage.shape[0],int(originalImage.shape[1]/pixelsInBin))) \n",
    "    \n",
    "    return binning"
   ]
  },
  {
   "cell_type": "code",
   "execution_count": 5,
   "metadata": {},
   "outputs": [],
   "source": [
    "def bin2D(originalImage, hPixelsInBin, vPixelsInBin):\n",
    "    \n",
    "    #12x15\n",
    "    #hbinning=3, vbinning = 4\n",
    "    #result: 3x5\n",
    "    \n",
    "    hBinnedImage = bins(originalImage, hPixelsInBin)\n",
    "    #print(hBinnedImage.shape, 'h')\n",
    "    #12x5\n",
    "    transposed = np.array(misc.transpose(hBinnedImage))\n",
    "    #print(transposed.shape, 't')\n",
    "    #5x12\n",
    "    vBinnedImage = bins(transposed, vPixelsInBin)\n",
    "    #print(vBinnedImage.shape, 'v')\n",
    "    #5x3\n",
    "    bothBinned = np.array(misc.transpose(vBinnedImage))\n",
    "    #print(bothBinned.shape, 'f')\n",
    "    \n",
    "    return hBinnedImage, transposed, vBinnedImage, bothBinned "
   ]
  },
  {
   "cell_type": "code",
   "execution_count": 6,
   "metadata": {},
   "outputs": [
    {
     "name": "stdout",
     "output_type": "stream",
     "text": [
      "14.0\n",
      "14.0\n",
      "14.0\n",
      "14.0\n",
      "14.0\n"
     ]
    },
    {
     "data": {
      "text/plain": [
       "<matplotlib.image.AxesImage at 0x1c5b55c3e50>"
      ]
     },
     "execution_count": 6,
     "metadata": {},
     "output_type": "execute_result"
    },
    {
     "data": {
      "image/png": "[encoded data removed]",
      "text/plain": [
       "<Figure size 1080x360 with 5 Axes>"
      ]
     },
     "metadata": {
      "needs_background": "light"
     },
     "output_type": "display_data"
    }
   ],
   "source": [
    "pixelsInBin = 3\n",
    "rs = np.random.RandomState(seed)\n",
    "\n",
    "xx, yy = np.meshgrid(np.arange(12), np.arange(12))\n",
    "gaus2d = avgPhotonsPerImage*gaus(xx, 6, 4)*gaus(yy, 6, 4)\n",
    "\n",
    "photonImage = np.zeros((12, 12))\n",
    "\n",
    "\n",
    "for rowi, row in enumerate(photonImage):\n",
    "    for coli, col in enumerate(row):\n",
    "        meanIntensity = gaus2d[rowi, coli]\n",
    "        shotnoise = rs.poisson(meanIntensity)\n",
    "\n",
    "        photonImage[rowi, coli] = shotnoise\n",
    "\n",
    "def singleBinH(originalImage, rowi, coli, pixelsInBin): \n",
    "    return sum(originalImage[rowi, coli:coli+pixelsInBin])\n",
    "\n",
    "both = bin2D(photonImage, h_pixelsInBin, v_pixelsInBin)\n",
    "\n",
    "print(sum(photonImage.flatten()))\n",
    "print(sum(both[0].flatten()))\n",
    "print(sum(both[1].flatten()))\n",
    "print(sum(both[2].flatten()))\n",
    "print(sum(both[3].flatten()))\n",
    "\n",
    "fig, axs = plt.subplots(1,5, figsize=(15,5))\n",
    "\n",
    "axs[0].imshow(photonImage)\n",
    "axs[1].imshow(both[0])\n",
    "axs[2].imshow(both[1])\n",
    "axs[3].imshow(both[2])\n",
    "axs[4].imshow(both[3])"
   ]
  },
  {
   "cell_type": "code",
   "execution_count": 8,
   "metadata": {},
   "outputs": [],
   "source": [
    "#binHeights, binEdges = np.histogram(np.random.choice(x, p=gain_pdf/sum(gain_pdf), size=int(1e6)), bins=100)\n",
    "#plt.step(binEdges[:-1], binHeights)"
   ]
  },
  {
   "cell_type": "code",
   "execution_count": 7,
   "metadata": {},
   "outputs": [
    {
     "ename": "SyntaxError",
     "evalue": "invalid syntax (<ipython-input-7-95a9b9d0e3bc>, line 2)",
     "output_type": "error",
     "traceback": [
      "\u001b[1;36m  File \u001b[1;32m\"<ipython-input-7-95a9b9d0e3bc>\"\u001b[1;36m, line \u001b[1;32m2\u001b[0m\n\u001b[1;33m    numBins =\u001b[0m\n\u001b[1;37m              ^\u001b[0m\n\u001b[1;31mSyntaxError\u001b[0m\u001b[1;31m:\u001b[0m invalid syntax\n"
     ]
    }
   ],
   "source": [
    "binned = []\n",
    "numBins = \n",
    "for numBini in enumerate(numBins):\n",
    "    binnedPixel = 0\n",
    "    for i in binNum:\n",
    "        binnedPixel += pixel\n",
    "    binned.append(binnedPixel)"
   ]
  },
  {
   "cell_type": "code",
   "execution_count": null,
   "metadata": {},
   "outputs": [],
   "source": [
    "#manual \"looping\"\n",
    "zerozero = photonImage[0,0] + photonImage[0,1]\n",
    "zeroone = photonImage[0,2] + photonImage[0,3]\n",
    "onezero = photonImage[1,0] +photonImage[1,1]\n",
    "oneone = photonImage[1,2]+ photonImage[1,3]\n",
    "twozero = photonImage[2,0]+photonImage[2,1]\n",
    "twoone = photonImage[2,2]+photonImage[2,3]\n",
    "threezero = photonImage[3,0]+photonImage[3,1]\n",
    "threeone = photonImage[3,2]+photonImage[3,3]\n",
    "\n",
    "\n",
    "horizontal=[zerozero,zeroone,onezero,oneone,twozero,twoone,threezero,threeone]\n",
    "#binner = np.reshape(horizontal, (4,2)) "
   ]
  }
 ],
 "metadata": {
  "kernelspec": {
   "display_name": "Python 3",
   "language": "python",
   "name": "python3"
  },
  "language_info": {
   "codemirror_mode": {
    "name": "ipython",
    "version": 3
   },
   "file_extension": ".py",
   "mimetype": "text/x-python",
   "name": "python",
   "nbconvert_exporter": "python",
   "pygments_lexer": "ipython3",
   "version": "3.8.3"
  }
 },
 "nbformat": 4,
 "nbformat_minor": 4
}
