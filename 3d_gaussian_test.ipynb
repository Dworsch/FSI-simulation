{
 "cells": [
  {
   "cell_type": "code",
   "execution_count": 13,
   "metadata": {},
   "outputs": [],
   "source": [
    "import numpy as np\n",
    "import matplotlib.pyplot as plt\n",
    "from mpl_toolkits.mplot3d import Axes3D\n",
    "import matplotlib.pyplot as plt\n",
    "from mpl_toolkits.axes_grid1 import make_axes_locatable"
   ]
  },
  {
   "cell_type": "code",
   "execution_count": 23,
   "metadata": {},
   "outputs": [],
   "source": [
    "avgPhotonsPerImage = 10\n",
    "size=50\n",
    "sigma = 1\n",
    "p0=int(size/2)\n",
    "minBlur = 1\n",
    "fovSize = 10"
   ]
  },
  {
   "cell_type": "code",
   "execution_count": 15,
   "metadata": {},
   "outputs": [],
   "source": [
    "def gaus_3d(intensity, x0, y0, z0, sigma):\n",
    "    #y_values = np.arange(0, size, 1)\n",
    "    X, Y, Z = np.meshgrid(x_values, x_values, x_values)\n",
    "    return ((1)/(2*np.pi*(sigma**2))*np.exp(-(((X-x0)**2)+(Y-y0)**2+(Z-z0)**2)/(2*sigma**2)))"
   ]
  },
  {
   "cell_type": "code",
   "execution_count": 16,
   "metadata": {},
   "outputs": [],
   "source": [
    "def gaus(x, m, s):\n",
    "    return (1/(s*np.sqrt(2*np.pi))*np.exp(-(x-m)**2/(2*s**2)))                            \n",
    "\n",
    "xx, yy, zz = np.meshgrid(np.arange(size), np.arange(size), np.arange(size))\n",
    "gaus3d = avgPhotonsPerImage*gaus(xx, p0, 2)*gaus(yy, p0, 2)*gaus(zz, p0, 2)"
   ]
  },
  {
   "cell_type": "code",
   "execution_count": 17,
   "metadata": {},
   "outputs": [],
   "source": [
    "def getFilterSigma(fx,fy,xp0,yp0,minBlurParam,fovSizeParam):\n",
    "    return (1/fovSize**2)*((fx-xp0)**2+(fy-yp0)**2)+minBlur"
   ]
  },
  {
   "cell_type": "code",
   "execution_count": 18,
   "metadata": {},
   "outputs": [],
   "source": [
    "def filteringGaussian(intensity, x0, y0, sigma):\n",
    "    x_values = np.arange(0, size, 1)\n",
    "    #y_values = np.arange(0, size, 1)\n",
    "    X, Y = np.meshgrid(x_values, x_values)\n",
    "    filterGauss = ((intensity)/(2*np.pi*(sigma**2))*np.exp(-(((X-x0)**2)+(Y-y0)**2)/(2*sigma**2)))\n",
    "    return filterGauss"
   ]
  },
  {
   "cell_type": "code",
   "execution_count": 19,
   "metadata": {},
   "outputs": [],
   "source": [
    "#toast = gaus3d[2]\n",
    "#plt.imshow(toast)\n",
    "#toast.shape"
   ]
  },
  {
   "cell_type": "code",
   "execution_count": 20,
   "metadata": {},
   "outputs": [],
   "source": [
    "blurredToast = np.zeros((size,size))\n",
    "blurredLoaf = []\n",
    "\n",
    "loaf = [gaus3d[:,:,i] for i in range(0,size)]\n",
    "#print(loaf)\n",
    "\n",
    "for rowi, row in enumerate(loaf):\n",
    "    for coli in range(0, len(row), 1):\n",
    "        filterSigma = getFilterSigma(rowi, coli, p0, p0, minBlur, fovSize)\n",
    "        intensityDist = gaus3d[rowi, coli]\n",
    "        blurredToast += filteringGaussian(intensityDist, coli, rowi, filterSigma)\n",
    "        blurredLoaf.append(blurredToast)\n",
    "        #print(blurredLoaf)\n",
    "#print(blurredLoaf)"
   ]
  },
  {
   "cell_type": "code",
   "execution_count": 22,
   "metadata": {},
   "outputs": [
    {
     "name": "stderr",
     "output_type": "stream",
     "text": [
      "IOPub data rate exceeded.\n",
      "The notebook server will temporarily stop sending output\n",
      "to the client in order to avoid crashing it.\n",
      "To change this limit, set the config variable\n",
      "`--NotebookApp.iopub_data_rate_limit`.\n",
      "\n",
      "Current values:\n",
      "NotebookApp.iopub_data_rate_limit=1000000.0 (bytes/sec)\n",
      "NotebookApp.rate_limit_window=3.0 (secs)\n",
      "\n"
     ]
    },
    {
     "data": {
      "image/png": "[encoded data removed]",
      "text/plain": [
       "<Figure size 1080x1080 with 8 Axes>"
      ]
     },
     "metadata": {
      "needs_background": "light"
     },
     "output_type": "display_data"
    }
   ],
   "source": [
    "print(blurredLoaf)\n",
    "avgImage = np.mean(blurredLoaf[:2], 0)\n",
    "avgImage2 = np.mean(blurredLoaf[:4], 0)\n",
    "avgImage3 = np.mean(blurredLoaf[:20], 0)\n",
    "avgImage4 = np.mean(blurredLoaf, 0)\n",
    "\n",
    "fig, (ax0, ax1, ax2, ax3) = plt.subplots(ncols=4, figsize=[15, 15])\n",
    "\n",
    "img0 = ax0.imshow(avgImage)\n",
    "#ax0.set_title('first 10 images averaged')\n",
    "\n",
    "divider = make_axes_locatable(ax0)\n",
    "cax = divider.append_axes(\"right\", size=\"10%\", pad=0.10)\n",
    "cb0 = plt.colorbar(img0, cax=cax)\n",
    "\n",
    "img1 = ax1.imshow(avgImage2)\n",
    "ax1.set_xticks([])\n",
    "ax1.set_yticks([])\n",
    "#ax1.set_title('first 50 images averaged')\n",
    "\n",
    "divider = make_axes_locatable(ax1)\n",
    "cax = divider.append_axes(\"right\", size=\"10%\", pad=0.10)\n",
    "cb = plt.colorbar(img1, cax=cax)\n",
    "\n",
    "img2 = ax2.imshow(avgImage3)\n",
    "ax2.set_xticks([])\n",
    "ax2.set_yticks([])\n",
    "#ax2.set_title('first 150 images averaged')\n",
    "\n",
    "divider = make_axes_locatable(ax2)\n",
    "cax = divider.append_axes(\"right\", size=\"10%\", pad=0.10)\n",
    "cb = plt.colorbar(img2, cax=cax)\n",
    "\n",
    "img3 = ax3.imshow(avgImage4)\n",
    "ax3.set_xticks([])\n",
    "ax3.set_yticks([])\n",
    "#ax3.set_title('all 400 images averaged')\n",
    "\n",
    "divider = make_axes_locatable(ax3)\n",
    "cax = divider.append_axes(\"right\", size=\"10%\", pad=0.10)\n",
    "cb = plt.colorbar(img3, cax=cax)\n",
    "\n",
    "plt.show()"
   ]
  },
  {
   "cell_type": "markdown",
   "metadata": {},
   "source": [
    "for each slice in gaus3d:\n",
    "    print slice\n",
    "    apply blur to slice \n",
    "    put blurred slice in list\n",
    "    \n",
    "average each element in blurred slice list\n",
    "show the result\n",
    "\n",
    "\n",
    "\n",
    "toast0 = gaus3d[0]\n",
    "toast1 = gaus3d[1]\n",
    "toast2 = gaus3d[2]\n",
    "toast3 = gaus3d[3]\n",
    "print(toast0, toast1, toast2)"
   ]
  }
 ],
 "metadata": {
  "kernelspec": {
   "display_name": "Python 3",
   "language": "python",
   "name": "python3"
  },
  "language_info": {
   "codemirror_mode": {
    "name": "ipython",
    "version": 3
   },
   "file_extension": ".py",
   "mimetype": "text/x-python",
   "name": "python",
   "nbconvert_exporter": "python",
   "pygments_lexer": "ipython3",
   "version": "3.8.3"
  }
 },
 "nbformat": 4,
 "nbformat_minor": 4
}
