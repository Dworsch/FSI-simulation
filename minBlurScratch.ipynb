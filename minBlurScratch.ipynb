{
 "cells": [
  {
   "cell_type": "code",
   "execution_count": 1,
   "metadata": {},
   "outputs": [],
   "source": [
    "import numpy as np"
   ]
  },
  {
   "cell_type": "code",
   "execution_count": 2,
   "metadata": {},
   "outputs": [],
   "source": [
    "fsill = 0.0156\n",
    "fimg = 1\n",
    "d = 0.3048\n",
    "wo1 = 7e-7\n",
    "Si2BC = 1\n",
    "So1BC = 0.0156\n",
    "l = 7.8e-7\n"
   ]
  },
  {
   "cell_type": "code",
   "execution_count": 14,
   "metadata": {},
   "outputs": [],
   "source": [
    "## Calculate Si1 given So1 and fsill as BC\n",
    "def si1(So1):\n",
    "    Si1Inv = (1/(fsill)) - (1/(so1))\n",
    "    Si1 = 1/Si1Inv\n",
    "    return Si1"
   ]
  },
  {
   "cell_type": "code",
   "execution_count": 15,
   "metadata": {},
   "outputs": [],
   "source": [
    "## Find So2 given Si2, fimg \n",
    "def so2(Si1):\n",
    "    So2 = d-Si1\n",
    "    return So2"
   ]
  },
  {
   "cell_type": "code",
   "execution_count": 16,
   "metadata": {},
   "outputs": [],
   "source": [
    "## Calculate Si2 given Si1(=So2) and fimg as BC\n",
    "def si2(Si1):\n",
    "    Si2Inv = (1/(fimg)) - (1/(si1))\n",
    "    Si2 = 1/Si2Inv\n",
    "    return Si2"
   ]
  },
  {
   "cell_type": "code",
   "execution_count": 17,
   "metadata": {},
   "outputs": [],
   "source": [
    "# Calculate mTot w/ Si1, Si2, So2 given So1"
   ]
  },
  {
   "cell_type": "code",
   "execution_count": 9,
   "metadata": {},
   "outputs": [],
   "source": [
    "def mTot(Si1, So1, Si2, So2):\n",
    "    return (Si1*Si2)/(So1*So2)"
   ]
  },
  {
   "cell_type": "code",
   "execution_count": null,
   "metadata": {},
   "outputs": [],
   "source": [
    "# Calculate Wi2 w/ W01 and mTot"
   ]
  },
  {
   "cell_type": "code",
   "execution_count": null,
   "metadata": {},
   "outputs": [],
   "source": [
    "def minBlur(wi2, Si2):\n",
    "    return wo1*mTot(Si1, So1, Si2, So2)*(np.sqrt(1+((l/np.pi)*((1-Si2)/wi2)**2)))\n",
    "    "
   ]
  },
  {
   "cell_type": "code",
   "execution_count": 15,
   "metadata": {},
   "outputs": [],
   "source": [
    "def minBlur(So1):\n",
    "    \n",
    "    Si1 = -(fsill*So1)/(fsill-So1)\n",
    "    So2 = d-Si1\n",
    "    Si2 = -(fimg*So2)/(fimg-So2)    \n",
    "    \n",
    "    mTot = (Si1*Si2)/(So1*So2)\n",
    "    wi2 = wo1*mTot\n",
    "    \n",
    "    minBlur = wi2*(np.sqrt(1+((l/np.pi)*((1-Si2)/wi2))**2))\n",
    "    return minBlur\n",
    "\n",
    "    "
   ]
  },
  {
   "cell_type": "code",
   "execution_count": 28,
   "metadata": {},
   "outputs": [
    {
     "name": "stdout",
     "output_type": "stream",
     "text": [
      "1.1353429388267737e-06\n"
     ]
    }
   ],
   "source": [
    "print(np.abs(minBlur(0.001))"
   ]
  },
  {
   "cell_type": "code",
   "execution_count": 30,
   "metadata": {},
   "outputs": [],
   "source": [
    "import numpy as np"
   ]
  },
  {
   "cell_type": "code",
   "execution_count": 9,
   "metadata": {},
   "outputs": [],
   "source": [
    "def minBlur(So1):\n",
    "    \n",
    "    Si1 = (fsill*So1)/(So1-fsill)\n",
    "    Si2 = (fimg*Si1)/(Si1-fimg)\n",
    "    So2 = d-Si1\n",
    "    \n",
    "    mTot = (Si1*Si2)/(So1*So2)\n",
    "    \n",
    "    minBlur = wo1*mTot*(np.sqrt(1+(((l/np.pi)*(1-Si2)/(wo1*mTot)))**2))\n",
    "    return minBlur"
   ]
  },
  {
   "cell_type": "code",
   "execution_count": 10,
   "metadata": {},
   "outputs": [
    {
     "name": "stdout",
     "output_type": "stream",
     "text": [
      "-2.5537966857361777e-07\n"
     ]
    }
   ],
   "source": [
    "print(minBlur(0.05))"
   ]
  },
  {
   "cell_type": "code",
   "execution_count": null,
   "metadata": {},
   "outputs": [],
   "source": []
  }
 ],
 "metadata": {
  "kernelspec": {
   "display_name": "Python 3",
   "language": "python",
   "name": "python3"
  },
  "language_info": {
   "codemirror_mode": {
    "name": "ipython",
    "version": 3
   },
   "file_extension": ".py",
   "mimetype": "text/x-python",
   "name": "python",
   "nbconvert_exporter": "python",
   "pygments_lexer": "ipython3",
   "version": "3.8.3"
  }
 },
 "nbformat": 4,
 "nbformat_minor": 4
}
