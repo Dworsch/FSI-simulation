{
 "cells": [
  {
   "cell_type": "code",
   "execution_count": 2,
   "metadata": {},
   "outputs": [],
   "source": [
    "import numpy as np\n",
    "import matplotlib.pyplot as plt\n",
    "from misc import reportProgress\n",
    "from scipy.ndimage.filters import gaussian_filter\n",
    "from misc import round_sig_str as round_sig_str\n",
    "import misc\n",
    "import blurringFunctions_testingnewminblur as bf\n",
    "import MarksConstants as mc\n",
    "from importlib import reload\n",
    "import imageBlurring as ib\n",
    "import cameraSimulation as cs\n",
    "import Analysis_Python_Files.AnalysisHelpers as ah"
   ]
  },
  {
   "cell_type": "code",
   "execution_count": 15,
   "metadata": {},
   "outputs": [],
   "source": [
    "size = 32\n",
    "p0=int(size/2)\n",
    "zTotalSize = 5e-6\n",
    "timeStep = 1\n",
    "time = 2*timeStep\n",
    "numZPoints = 50"
   ]
  },
  {
   "cell_type": "markdown",
   "metadata": {},
   "source": [
    "#### 1. Calculate PSF (basically, measure via 2D Gaussian fit of early image straight from M's model)\n",
    "#### 2. Then run DOF on the early image and measure PSF on that image\n",
    "#### 3. Compare the waists or sigmas"
   ]
  },
  {
   "cell_type": "code",
   "execution_count": 21,
   "metadata": {
    "tags": []
   },
   "outputs": [],
   "source": [
    "def reportProgress(num, total):\n",
    "    print( round_sig_str(num/total*100) + '%                     ',  end='\\r' )\n",
    "    IPython.display.clear_output(wait=True)"
   ]
  },
  {
   "cell_type": "code",
   "execution_count": 30,
   "metadata": {
    "tags": []
   },
   "outputs": [
    {
     "name": "stdout",
     "output_type": "stream",
     "text": [
      "(51, 2000, 2000)\n"
     ]
    }
   ],
   "source": [
    "n1Array = np.load('N1Expansion.npy')\n",
    "print(n1Array.shape)"
   ]
  },
  {
   "cell_type": "code",
   "execution_count": 31,
   "metadata": {
    "tags": []
   },
   "outputs": [
    {
     "name": "stdout",
     "output_type": "stream",
     "text": [
      "(2000, 2000)\n"
     ]
    }
   ],
   "source": [
    "array3D = np.zeros((numZPoints,100,100))\n",
    "dzPos = np.linspace(-zTotalSize/2, zTotalSize/2, num=numZPoints)\n",
    "xySlice = n1Array[timeStep]\n",
    "print(xySlice.shape)"
   ]
  },
  {
   "cell_type": "code",
   "execution_count": 32,
   "metadata": {
    "tags": []
   },
   "outputs": [
    {
     "name": "stdout",
     "output_type": "stream",
     "text": [
      "4.8718368263066376e-08\n"
     ]
    },
    {
     "data": {
      "image/png": "[encoded data removed]",
      "text/plain": [
       "<Figure size 432x288 with 1 Axes>"
      ]
     },
     "metadata": {
      "needs_background": "light"
     },
     "output_type": "display_data"
    }
   ],
   "source": [
    "def zGaussian(t, z):\n",
    "    sigma_x_0 = np.sqrt(mc.hbar/(mc.Rb87_M*2*np.pi*49e3))\n",
    "    sigma_v = np.sqrt(mc.hbar*np.pi*49e3/mc.Rb87_M)\n",
    "    sigma  = np.sqrt(sigma_v**2*(t*1e-6)**2 + sigma_x_0**2)\n",
    "    sig = 0.465e-6\n",
    "    return (1/(sig*np.sqrt(2*np.pi)))*np.exp(-(z)**2/(2*sig**2))\n",
    "plt.plot(dzPos, zGaussian(time, dzPos))\n",
    "print(np.sqrt(mc.hbar/(mc.Rb87_M*2*np.pi*49e3)))"
   ]
  },
  {
   "cell_type": "code",
   "execution_count": 33,
   "metadata": {
    "tags": []
   },
   "outputs": [
    {
     "name": "stdout",
     "output_type": "stream",
     "text": [
      "(50, 2000, 2000)\n"
     ]
    }
   ],
   "source": [
    "waveFunctionSlices = []\n",
    "for i, zSlice in enumerate(array3D):\n",
    "    zSlice = xySlice*zGaussian(time, dzPos[i])\n",
    "    waveFunctionSlices.append(zSlice)\n",
    "#print(waveFunctionSlices)\n",
    "waveFunctionSlices = np.array(waveFunctionSlices)\n",
    "print(waveFunctionSlices.shape)"
   ]
  },
  {
   "cell_type": "markdown",
   "metadata": {
    "tags": []
   },
   "source": [
    "#### \"Raw\" wavefunction (prior to adding blur effects)"
   ]
  },
  {
   "cell_type": "code",
   "execution_count": 34,
   "metadata": {
    "tags": []
   },
   "outputs": [
    {
     "data": {
      "text/plain": [
       "<matplotlib.image.AxesImage at 0x1af1f206c40>"
      ]
     },
     "execution_count": 34,
     "metadata": {},
     "output_type": "execute_result"
    },
    {
     "data": {
      "image/png": "[encoded data removed]",
      "text/plain": [
       "<Figure size 432x288 with 1 Axes>"
      ]
     },
     "metadata": {
      "needs_background": "light"
     },
     "output_type": "display_data"
    }
   ],
   "source": [
    "binnedwvftn = cs.softwareBinning([20,20], waveFunctionSlices)\n",
    "plt.imshow(binnedwvftn[25])"
   ]
  },
  {
   "cell_type": "markdown",
   "metadata": {},
   "source": [
    "##### Calculate PSF via 2D Gaussian fit (4/26/21 for ex)"
   ]
  },
  {
   "cell_type": "code",
   "execution_count": 35,
   "metadata": {
    "tags": []
   },
   "outputs": [
    {
     "data": {
      "image/png": "[encoded data removed]",
      "text/plain": [
       "<Figure size 432x288 with 2 Axes>"
      ]
     },
     "metadata": {
      "needs_background": "light"
     },
     "output_type": "display_data"
    }
   ],
   "source": [
    "fittedWvftn = ah.fitPic(binnedwvftn[25])"
   ]
  },
  {
   "cell_type": "code",
   "execution_count": 36,
   "metadata": {
    "tags": []
   },
   "outputs": [
    {
     "name": "stdout",
     "output_type": "stream",
     "text": [
      "0.7116513298563711\n",
      "0.4950825588552839\n",
      "0.8669223467929738\n",
      "0.00011450508839875751\n"
     ]
    }
   ],
   "source": [
    "extractedSigmax = fittedWvftn[1][3]\n",
    "print(extractedSigmax)\n",
    "extractedSigmay = fittedWvftn[1][4]\n",
    "print(extractedSigmay)\n",
    "\n",
    "sigmaxy = np.sqrt((extractedSigmax**2) + (extractedSigmay**2))\n",
    "print(sigmaxy)\n",
    "\n",
    "uncertx = fittedWvftn[2][3]\n",
    "uncerty = fittedWvftn[2][4]\n",
    "uncertxy = sigmaxy*np.sqrt(((uncertx/extractedSigmax)**2) + ((uncerty/extractedSigmax)**2))\n",
    "print(uncertxy)"
   ]
  },
  {
   "cell_type": "markdown",
   "metadata": {},
   "source": [
    "#### Blurred wavefunction (added 3D blur effects)"
   ]
  },
  {
   "cell_type": "code",
   "execution_count": 37,
   "metadata": {
    "tags": []
   },
   "outputs": [
    {
     "data": {
      "text/plain": [
       "Text(0.5, 1.0, 'TOF = 2 us')"
      ]
     },
     "execution_count": 37,
     "metadata": {},
     "output_type": "execute_result"
    },
    {
     "data": {
      "image/png": "[encoded data removed]",
      "text/plain": [
       "<Figure size 432x288 with 2 Axes>"
      ]
     },
     "metadata": {
      "needs_background": "light"
     },
     "output_type": "display_data"
    }
   ],
   "source": [
    "blurredwvftn = bf.XYZ_Blur(binnedwvftn)*1e-20\n",
    "plt.imshow(blurredwvftn)\n",
    "plt.colorbar()\n",
    "plt.title('TOF = 2 us')"
   ]
  },
  {
   "cell_type": "markdown",
   "metadata": {},
   "source": [
    "##### Calculate PSF via 2D Gaussian fit "
   ]
  },
  {
   "cell_type": "code",
   "execution_count": 36,
   "metadata": {
    "collapsed": true,
    "jupyter": {
     "outputs_hidden": true
    },
    "tags": []
   },
   "outputs": [
    {
     "data": {
      "image/png": "[encoded data removed]",
      "text/plain": [
       "<Figure size 432x288 with 2 Axes>"
      ]
     },
     "metadata": {
      "needs_background": "light"
     },
     "output_type": "display_data"
    }
   ],
   "source": [
    "fittedWvftn = ah.fitPic(blurredwvftn)"
   ]
  },
  {
   "cell_type": "code",
   "execution_count": 37,
   "metadata": {
    "collapsed": true,
    "jupyter": {
     "outputs_hidden": true
    },
    "tags": []
   },
   "outputs": [
    {
     "name": "stdout",
     "output_type": "stream",
     "text": [
      "1.7592201688639322\n",
      "1.7001837210348425\n",
      "2.4465241236925346\n",
      "3.408873443237253e-05\n"
     ]
    }
   ],
   "source": [
    "extractedSigmax = fittedWvftn[1][3]\n",
    "print(extractedSigmax)\n",
    "extractedSigmay = fittedWvftn[1][4]\n",
    "print(extractedSigmay)\n",
    "\n",
    "sigmaxy = np.sqrt((extractedSigmax**2) + (extractedSigmay**2))\n",
    "print(sigmaxy)\n",
    "\n",
    "uncertx = fittedWvftn[2][3]\n",
    "uncerty = fittedWvftn[2][4]\n",
    "uncertxy = sigmaxy*np.sqrt(((uncertx/extractedSigmax)**2) + ((uncerty/extractedSigmax)**2))\n",
    "print(uncertxy)"
   ]
  },
  {
   "cell_type": "markdown",
   "metadata": {},
   "source": [
    "#### z-blurred wavefunction"
   ]
  },
  {
   "cell_type": "code",
   "execution_count": 108,
   "metadata": {
    "tags": []
   },
   "outputs": [
    {
     "data": {
      "text/plain": [
       "Text(0.5, 1.0, 'TOF = 2 us')"
      ]
     },
     "execution_count": 108,
     "metadata": {},
     "output_type": "execute_result"
    },
    {
     "data": {
      "image/png": "[encoded data removed]",
      "text/plain": [
       "<Figure size 432x288 with 2 Axes>"
      ]
     },
     "metadata": {
      "needs_background": "light"
     },
     "output_type": "display_data"
    }
   ],
   "source": [
    "blurredwvftn = bf.XYZ_Blur(binnedwvftn,xyDepBlur = False)*1e-20\n",
    "plt.imshow(blurredwvftn)\n",
    "plt.colorbar()\n",
    "plt.title('TOF = 2 us')"
   ]
  },
  {
   "cell_type": "code",
   "execution_count": 109,
   "metadata": {},
   "outputs": [
    {
     "data": {
      "image/png": "[encoded data removed]",
      "text/plain": [
       "<Figure size 432x288 with 2 Axes>"
      ]
     },
     "metadata": {
      "needs_background": "light"
     },
     "output_type": "display_data"
    }
   ],
   "source": [
    "fittedWvftn = ah.fitPic(blurredwvftn)"
   ]
  },
  {
   "cell_type": "code",
   "execution_count": 110,
   "metadata": {},
   "outputs": [
    {
     "name": "stdout",
     "output_type": "stream",
     "text": [
      "1.7409765822356185\n",
      "1.6813547109334859\n",
      "2.420320872089286\n",
      "1.8142298133817753e-05\n"
     ]
    }
   ],
   "source": [
    "extractedSigmax = fittedWvftn[1][3]\n",
    "print(extractedSigmax)\n",
    "extractedSigmay = fittedWvftn[1][4]\n",
    "print(extractedSigmay)\n",
    "\n",
    "sigmazxy = np.sqrt((extractedSigmax**2) + (extractedSigmay**2))\n",
    "print(sigmazxy)\n",
    "\n",
    "uncertx = fittedWvftn[2][3]\n",
    "uncerty = fittedWvftn[2][4]\n",
    "uncertxy = sigmaxy*np.sqrt(((uncertx/extractedSigmax)**2) + ((uncerty/extractedSigmax)**2))\n",
    "print(uncertxy)"
   ]
  },
  {
   "cell_type": "code",
   "execution_count": null,
   "metadata": {
    "tags": []
   },
   "outputs": [],
   "source": [
    "blurredimg = np.convolve()"
   ]
  },
  {
   "cell_type": "markdown",
   "metadata": {},
   "source": [
    "#### PSF as convolver"
   ]
  },
  {
   "cell_type": "code",
   "execution_count": 11,
   "metadata": {
    "tags": []
   },
   "outputs": [],
   "source": [
    "import scipy.signal"
   ]
  },
  {
   "cell_type": "code",
   "execution_count": 43,
   "metadata": {
    "collapsed": true,
    "jupyter": {
     "outputs_hidden": true
    },
    "tags": []
   },
   "outputs": [
    {
     "data": {
      "text/plain": [
       "<matplotlib.image.AxesImage at 0x216a1a31dc0>"
      ]
     },
     "execution_count": 43,
     "metadata": {},
     "output_type": "execute_result"
    },
    {
     "data": {
      "image/png": "[encoded data removed]",
      "text/plain": [
       "<Figure size 432x288 with 1 Axes>"
      ]
     },
     "metadata": {
      "needs_background": "light"
     },
     "output_type": "display_data"
    }
   ],
   "source": [
    "PSFconvolvedImg = scipy.signal.convolve2d(binnedwvftn[25], [[1.671], [1.423]])\n",
    "plt.imshow(PSFconvolvedImg)"
   ]
  },
  {
   "cell_type": "code",
   "execution_count": 28,
   "metadata": {},
   "outputs": [
    {
     "data": {
      "text/plain": [
       "<matplotlib.image.AxesImage at 0x1af1e3f3df0>"
      ]
     },
     "execution_count": 28,
     "metadata": {},
     "output_type": "execute_result"
    },
    {
     "data": {
      "image/png": "[encoded data removed]",
      "text/plain": [
       "<Figure size 432x288 with 1 Axes>"
      ]
     },
     "metadata": {
      "needs_background": "light"
     },
     "output_type": "display_data"
    }
   ],
   "source": [
    "testDelta = np.zeros((size,size,size))\n",
    "testDelta[0,p0,p0]=1\n",
    "plt.imshow(testDelta[0])"
   ]
  },
  {
   "cell_type": "code",
   "execution_count": 21,
   "metadata": {},
   "outputs": [
    {
     "name": "stdout",
     "output_type": "stream",
     "text": [
      "(32, 32)\n"
     ]
    }
   ],
   "source": [
    "\n",
    "dzPos = np.linspace(-zTotalSize/2, zTotalSize/2, num=numZPoints)\n",
    "xySlice = testDelta[timeStep]\n",
    "print(xySlice.shape)"
   ]
  },
  {
   "cell_type": "code",
   "execution_count": 22,
   "metadata": {},
   "outputs": [
    {
     "name": "stdout",
     "output_type": "stream",
     "text": [
      "4.8718368263066376e-08\n"
     ]
    },
    {
     "data": {
      "image/png": "[encoded data removed]",
      "text/plain": [
       "<Figure size 432x288 with 1 Axes>"
      ]
     },
     "metadata": {
      "needs_background": "light"
     },
     "output_type": "display_data"
    }
   ],
   "source": [
    "def zGaussian(t, z):\n",
    "    sigma_x_0 = np.sqrt(mc.hbar/(mc.Rb87_M*2*np.pi*49e3))\n",
    "    sigma_v = np.sqrt(mc.hbar*np.pi*49e3/mc.Rb87_M)\n",
    "    sigma  = np.sqrt(sigma_v**2*(t*1e-6)**2 + sigma_x_0**2)\n",
    "    sig = 0.465e-6\n",
    "    return (1/(sig*np.sqrt(2*np.pi)))*np.exp(-(z)**2/(2*sig**2))\n",
    "plt.plot(dzPos, zGaussian(time, dzPos))\n",
    "print(np.sqrt(mc.hbar/(mc.Rb87_M*2*np.pi*49e3)))"
   ]
  },
  {
   "cell_type": "code",
   "execution_count": 23,
   "metadata": {},
   "outputs": [
    {
     "name": "stdout",
     "output_type": "stream",
     "text": [
      "(32, 32, 32)\n"
     ]
    }
   ],
   "source": [
    "deltaSlices = []\n",
    "for i, zSlice in enumerate(testDelta):\n",
    "    zSlice = xySlice*zGaussian(time, dzPos[i])\n",
    "    deltaSlices.append(zSlice)\n",
    "#print(waveFunctionSlices)\n",
    "deltaSlices = np.array(deltaSlices)\n",
    "print(deltaSlices.shape)"
   ]
  },
  {
   "cell_type": "code",
   "execution_count": 25,
   "metadata": {
    "tags": []
   },
   "outputs": [
    {
     "ename": "IndexError",
     "evalue": "index 32 is out of bounds for axis 0 with size 32",
     "output_type": "error",
     "traceback": [
      "\u001b[1;31m---------------------------------------------------------------------------\u001b[0m",
      "\u001b[1;31mIndexError\u001b[0m                                Traceback (most recent call last)",
      "\u001b[1;32m<ipython-input-25-e70b4d9b771d>\u001b[0m in \u001b[0;36m<module>\u001b[1;34m\u001b[0m\n\u001b[1;32m----> 1\u001b[1;33m \u001b[0mblurredDelta\u001b[0m \u001b[1;33m=\u001b[0m \u001b[0mbf\u001b[0m\u001b[1;33m.\u001b[0m\u001b[0mXYZ_Blur\u001b[0m\u001b[1;33m(\u001b[0m\u001b[0mdeltaSlices\u001b[0m\u001b[1;33m)\u001b[0m\u001b[1;33m\u001b[0m\u001b[1;33m\u001b[0m\u001b[0m\n\u001b[0m\u001b[0;32m      2\u001b[0m \u001b[0mplt\u001b[0m\u001b[1;33m.\u001b[0m\u001b[0mimshow\u001b[0m\u001b[1;33m(\u001b[0m\u001b[0mblurredDelta\u001b[0m\u001b[1;33m)\u001b[0m\u001b[1;33m\u001b[0m\u001b[1;33m\u001b[0m\u001b[0m\n\u001b[0;32m      3\u001b[0m \u001b[0mplt\u001b[0m\u001b[1;33m.\u001b[0m\u001b[0mcolorbar\u001b[0m\u001b[1;33m(\u001b[0m\u001b[1;33m)\u001b[0m\u001b[1;33m\u001b[0m\u001b[1;33m\u001b[0m\u001b[0m\n\u001b[0;32m      4\u001b[0m \u001b[0mplt\u001b[0m\u001b[1;33m.\u001b[0m\u001b[0mtitle\u001b[0m\u001b[1;33m(\u001b[0m\u001b[1;34m'TOF = 2 us'\u001b[0m\u001b[1;33m)\u001b[0m\u001b[1;33m\u001b[0m\u001b[1;33m\u001b[0m\u001b[0m\n",
      "\u001b[1;32m~\\Documents\\Simulation\\blurringFunctions_testingnewminblur.py\u001b[0m in \u001b[0;36mXYZ_Blur\u001b[1;34m(input3D, zTotalSize, zDepBlur, xyDepBlur, fovSize)\u001b[0m\n\u001b[0;32m     48\u001b[0m     \"\"\"\n\u001b[0;32m     49\u001b[0m     \u001b[0mfsill\u001b[0m \u001b[1;33m=\u001b[0m \u001b[1;36m0.0156\u001b[0m\u001b[1;33m\u001b[0m\u001b[1;33m\u001b[0m\u001b[0m\n\u001b[1;32m---> 50\u001b[1;33m     \u001b[0mall2DSlices\u001b[0m \u001b[1;33m=\u001b[0m \u001b[1;33m[\u001b[0m\u001b[0minput3D\u001b[0m\u001b[1;33m[\u001b[0m\u001b[0mi\u001b[0m\u001b[1;33m]\u001b[0m \u001b[1;32mfor\u001b[0m \u001b[0mi\u001b[0m \u001b[1;32min\u001b[0m \u001b[0mrange\u001b[0m\u001b[1;33m(\u001b[0m\u001b[1;36m0\u001b[0m\u001b[1;33m,\u001b[0m\u001b[0msize\u001b[0m\u001b[1;33m)\u001b[0m\u001b[1;33m]\u001b[0m\u001b[1;33m\u001b[0m\u001b[1;33m\u001b[0m\u001b[0m\n\u001b[0m\u001b[0;32m     51\u001b[0m     \u001b[0mblurrySlicesGausTest\u001b[0m \u001b[1;33m=\u001b[0m \u001b[1;33m[\u001b[0m\u001b[1;33m]\u001b[0m\u001b[1;33m\u001b[0m\u001b[1;33m\u001b[0m\u001b[0m\n\u001b[0;32m     52\u001b[0m     \u001b[0mdz\u001b[0m \u001b[1;33m=\u001b[0m \u001b[0mnp\u001b[0m\u001b[1;33m.\u001b[0m\u001b[0mlinspace\u001b[0m\u001b[1;33m(\u001b[0m\u001b[1;33m-\u001b[0m\u001b[0mzTotalSize\u001b[0m\u001b[1;33m/\u001b[0m\u001b[1;36m2\u001b[0m\u001b[1;33m,\u001b[0m \u001b[0mzTotalSize\u001b[0m\u001b[1;33m/\u001b[0m\u001b[1;36m2\u001b[0m\u001b[1;33m,\u001b[0m \u001b[0msize\u001b[0m\u001b[1;33m)\u001b[0m\u001b[1;33m\u001b[0m\u001b[1;33m\u001b[0m\u001b[0m\n",
      "\u001b[1;32m~\\Documents\\Simulation\\blurringFunctions_testingnewminblur.py\u001b[0m in \u001b[0;36m<listcomp>\u001b[1;34m(.0)\u001b[0m\n\u001b[0;32m     48\u001b[0m     \"\"\"\n\u001b[0;32m     49\u001b[0m     \u001b[0mfsill\u001b[0m \u001b[1;33m=\u001b[0m \u001b[1;36m0.0156\u001b[0m\u001b[1;33m\u001b[0m\u001b[1;33m\u001b[0m\u001b[0m\n\u001b[1;32m---> 50\u001b[1;33m     \u001b[0mall2DSlices\u001b[0m \u001b[1;33m=\u001b[0m \u001b[1;33m[\u001b[0m\u001b[0minput3D\u001b[0m\u001b[1;33m[\u001b[0m\u001b[0mi\u001b[0m\u001b[1;33m]\u001b[0m \u001b[1;32mfor\u001b[0m \u001b[0mi\u001b[0m \u001b[1;32min\u001b[0m \u001b[0mrange\u001b[0m\u001b[1;33m(\u001b[0m\u001b[1;36m0\u001b[0m\u001b[1;33m,\u001b[0m\u001b[0msize\u001b[0m\u001b[1;33m)\u001b[0m\u001b[1;33m]\u001b[0m\u001b[1;33m\u001b[0m\u001b[1;33m\u001b[0m\u001b[0m\n\u001b[0m\u001b[0;32m     51\u001b[0m     \u001b[0mblurrySlicesGausTest\u001b[0m \u001b[1;33m=\u001b[0m \u001b[1;33m[\u001b[0m\u001b[1;33m]\u001b[0m\u001b[1;33m\u001b[0m\u001b[1;33m\u001b[0m\u001b[0m\n\u001b[0;32m     52\u001b[0m     \u001b[0mdz\u001b[0m \u001b[1;33m=\u001b[0m \u001b[0mnp\u001b[0m\u001b[1;33m.\u001b[0m\u001b[0mlinspace\u001b[0m\u001b[1;33m(\u001b[0m\u001b[1;33m-\u001b[0m\u001b[0mzTotalSize\u001b[0m\u001b[1;33m/\u001b[0m\u001b[1;36m2\u001b[0m\u001b[1;33m,\u001b[0m \u001b[0mzTotalSize\u001b[0m\u001b[1;33m/\u001b[0m\u001b[1;36m2\u001b[0m\u001b[1;33m,\u001b[0m \u001b[0msize\u001b[0m\u001b[1;33m)\u001b[0m\u001b[1;33m\u001b[0m\u001b[1;33m\u001b[0m\u001b[0m\n",
      "\u001b[1;31mIndexError\u001b[0m: index 32 is out of bounds for axis 0 with size 32"
     ]
    }
   ],
   "source": [
    "blurredDelta = bf.XYZ_Blur(deltaSlices)\n",
    "plt.imshow(blurredDelta)\n",
    "plt.colorbar()\n",
    "plt.title('TOF = 2 us')"
   ]
  },
  {
   "cell_type": "code",
   "execution_count": 12,
   "metadata": {},
   "outputs": [
    {
     "data": {
      "image/png": "[encoded data removed]",
      "text/plain": [
       "<Figure size 432x288 with 2 Axes>"
      ]
     },
     "metadata": {
      "needs_background": "light"
     },
     "output_type": "display_data"
    }
   ],
   "source": [
    "fittedDelta = ah.fitPic(blurredDelta)"
   ]
  },
  {
   "cell_type": "code",
   "execution_count": 13,
   "metadata": {},
   "outputs": [
    {
     "name": "stdout",
     "output_type": "stream",
     "text": [
      "1.6278121398645238\n",
      "1.6278121398645238\n",
      "2.302074005191979\n"
     ]
    },
    {
     "ename": "NameError",
     "evalue": "name 'sigmaxy' is not defined",
     "output_type": "error",
     "traceback": [
      "\u001b[1;31m---------------------------------------------------------------------------\u001b[0m",
      "\u001b[1;31mNameError\u001b[0m                                 Traceback (most recent call last)",
      "\u001b[1;32m<ipython-input-13-a2bb6abb7389>\u001b[0m in \u001b[0;36m<module>\u001b[1;34m\u001b[0m\n\u001b[0;32m      9\u001b[0m \u001b[0muncertx\u001b[0m \u001b[1;33m=\u001b[0m \u001b[0mfittedDelta\u001b[0m\u001b[1;33m[\u001b[0m\u001b[1;36m2\u001b[0m\u001b[1;33m]\u001b[0m\u001b[1;33m[\u001b[0m\u001b[1;36m3\u001b[0m\u001b[1;33m]\u001b[0m\u001b[1;33m\u001b[0m\u001b[1;33m\u001b[0m\u001b[0m\n\u001b[0;32m     10\u001b[0m \u001b[0muncerty\u001b[0m \u001b[1;33m=\u001b[0m \u001b[0mfittedDelta\u001b[0m\u001b[1;33m[\u001b[0m\u001b[1;36m2\u001b[0m\u001b[1;33m]\u001b[0m\u001b[1;33m[\u001b[0m\u001b[1;36m4\u001b[0m\u001b[1;33m]\u001b[0m\u001b[1;33m\u001b[0m\u001b[1;33m\u001b[0m\u001b[0m\n\u001b[1;32m---> 11\u001b[1;33m \u001b[0muncertxy\u001b[0m \u001b[1;33m=\u001b[0m \u001b[0msigmaxy\u001b[0m\u001b[1;33m*\u001b[0m\u001b[0mnp\u001b[0m\u001b[1;33m.\u001b[0m\u001b[0msqrt\u001b[0m\u001b[1;33m(\u001b[0m\u001b[1;33m(\u001b[0m\u001b[1;33m(\u001b[0m\u001b[0muncertx\u001b[0m\u001b[1;33m/\u001b[0m\u001b[0mextractedSigmax\u001b[0m\u001b[1;33m)\u001b[0m\u001b[1;33m**\u001b[0m\u001b[1;36m2\u001b[0m\u001b[1;33m)\u001b[0m \u001b[1;33m+\u001b[0m \u001b[1;33m(\u001b[0m\u001b[1;33m(\u001b[0m\u001b[0muncerty\u001b[0m\u001b[1;33m/\u001b[0m\u001b[0mextractedSigmax\u001b[0m\u001b[1;33m)\u001b[0m\u001b[1;33m**\u001b[0m\u001b[1;36m2\u001b[0m\u001b[1;33m)\u001b[0m\u001b[1;33m)\u001b[0m\u001b[1;33m\u001b[0m\u001b[1;33m\u001b[0m\u001b[0m\n\u001b[0m\u001b[0;32m     12\u001b[0m \u001b[0mprint\u001b[0m\u001b[1;33m(\u001b[0m\u001b[0muncertxy\u001b[0m\u001b[1;33m)\u001b[0m\u001b[1;33m\u001b[0m\u001b[1;33m\u001b[0m\u001b[0m\n",
      "\u001b[1;31mNameError\u001b[0m: name 'sigmaxy' is not defined"
     ]
    }
   ],
   "source": [
    "extractedSigmax = fittedDelta[1][3]\n",
    "print(extractedSigmax)\n",
    "extractedSigmay = fittedDelta[1][4]\n",
    "print(extractedSigmay)\n",
    "\n",
    "sigmazxy = np.sqrt((extractedSigmax**2) + (extractedSigmay**2))\n",
    "print(sigmazxy)\n",
    "\n",
    "uncertx = fittedDelta[2][3]\n",
    "uncerty = fittedDelta[2][4]\n",
    "uncertxy = sigmaxy*np.sqrt(((uncertx/extractedSigmax)**2) + ((uncerty/extractedSigmax)**2))\n",
    "print(uncertxy)"
   ]
  },
  {
   "cell_type": "code",
   "execution_count": null,
   "metadata": {},
   "outputs": [],
   "source": []
  }
 ],
 "metadata": {
  "kernelspec": {
   "display_name": "Python 3",
   "language": "python",
   "name": "python3"
  },
  "language_info": {
   "codemirror_mode": {
    "name": "ipython",
    "version": 3
   },
   "file_extension": ".py",
   "mimetype": "text/x-python",
   "name": "python",
   "nbconvert_exporter": "python",
   "pygments_lexer": "ipython3",
   "version": "3.8.3"
  }
 },
 "nbformat": 4,
 "nbformat_minor": 4
}
