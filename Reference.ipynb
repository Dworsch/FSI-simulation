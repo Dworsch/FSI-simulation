{
 "cells": [
  {
   "cell_type": "code",
   "execution_count": 1,
   "metadata": {},
   "outputs": [],
   "source": [
    "import numpy as np\n",
    "import matplotlib.pyplot as plt"
   ]
  },
  {
   "cell_type": "code",
   "execution_count": 2,
   "metadata": {},
   "outputs": [],
   "source": [
    "def center():\n",
    "    return [2, 3] # or the arg-number of the center.\n",
    "\n",
    "\n",
    "def args():\n",
    "    return 'amp', 'x0', 'y0', 'sig_x', 'sig_y', 'theta', 'offset'\n",
    "\n",
    "\n",
    "def f(coordinates, amplitude, xo, yo, sigma_x, sigma_y, theta, offset):\n",
    "    \"\"\"\n",
    "    The normal function call for this function. Performs checks on valid arguments, then calls the \"raw\" function.\n",
    "    :return:\n",
    "    \"\"\"\n",
    "    if sigma_x > 50 or sigma_y > 50:\n",
    "        #print('!',end='')\n",
    "        return 1e10*np.ones(len(coordinates[0])*len(coordinates[0][0]))\n",
    "    # limit the angle to a small range to prevent unncecessary flips of the axes. The 2D gaussian has two axes of\n",
    "    # symmetry, so only a quarter of the 2pi is needed.\n",
    "    if theta > np.pi/4 or theta < -np.pi/4:\n",
    "        return 1e10*np.ones(len(coordinates[0])*len(coordinates[0][0]))\n",
    "    res = f_raw(coordinates, amplitude, xo, yo, sigma_x, sigma_y, theta, offset)\n",
    "    #print('{0: 3.16f}   {1: 3.16f}   {2: 3.16f}   {3: 3.16f}   {4: 3.16f}   {5: 3.16f}   {6: 3.16f}'.format(amplitude, xo, yo, sigma_x, sigma_y, theta, offset))\n",
    "    return res\n",
    "\n",
    "def f_notheta(coordinates, amplitude, xo, yo, sigma_x, sigma_y, offset):\n",
    "    return f(coordinates, amplitude, xo, yo, sigma_x, sigma_y, 0, offset)\n",
    "\n",
    "\n",
    "def f_noravel(coordinates, amplitude, xo, yo, sigma_x, sigma_y, theta, offset):\n",
    "    #if sigma_x > 1 or sigma_y > 1:\n",
    "    #    return 1e10\n",
    "\n",
    "    x = coordinates[0]\n",
    "    y = coordinates[1]\n",
    "    xo = float(xo)\n",
    "    yo = float(yo)\n",
    "    a = (np.cos(theta)**2)/(2*sigma_x**2) + (np.sin(theta)**2)/(2*sigma_y**2)\n",
    "    b = -(np.sin(2*theta))/(4*sigma_x**2) + (np.sin(2*theta))/(4*sigma_y**2)\n",
    "    c = (np.sin(theta)**2)/(2*sigma_x**2) + (np.cos(theta)**2)/(2*sigma_y**2)\n",
    "    g = offset + amplitude*np.exp(- (a*((x-xo)**2) + 2*b*(x-xo)*(y-yo) + c*((y-yo)**2)))\n",
    "    return g\n",
    "\n",
    "\n",
    "def f_raw(coordinates, amplitude, xo, yo, sigma_x, sigma_y, theta, offset):\n",
    "    \"\"\"\n",
    "    The raw function call, performs no checks on valid parameters..\n",
    "    :return:\n",
    "    \"\"\"\n",
    "    return f_noravel(coordinates, amplitude, xo, yo, sigma_x, sigma_y, theta, offset).ravel()\n",
    "\n",
    "\n",
    "def f_unc(coordinates, amplitude, xo, yo, sigma_x, sigma_y, theta, offset):\n",
    "    \"\"\"\n",
    "    similar to the raw function call, but uses unp instead of np for uncertainties calculations.\n",
    "    :return:\n",
    "    \"\"\"\n",
    "    x = coordinates[0]\n",
    "    y = coordinates[1]\n",
    "    xo = float(xo)\n",
    "    yo = float(yo)\n",
    "    a = (unp.cos(theta)**2)/(2*sigma_x**2) + (unp.sin(theta)**2)/(2*sigma_y**2)\n",
    "    b = -(unp.sin(2*theta))/(4*sigma_x**2) + (unp.sin(2*theta))/(4*sigma_y**2)\n",
    "    c = (unp.sin(theta)**2)/(2*sigma_x**2) + (unp.cos(theta)**2)/(2*sigma_y**2)\n",
    "    g = offset + amplitude*unp.exp(- (a*((x-xo)**2) + 2*b*(x-xo)*(y-yo) + c*((y-yo)**2)))\n",
    "    return g.ravel()\n",
    "\n",
    "\n",
    "def areaUnder(amplitude, sigma_x, sigma_y):\n",
    "    return amplitude * sigma_x * np.sqrt(2 * np.pi) * sigma_y * np.sqrt(2 * np.pi)\n",
    "\n",
    "\n",
    "def guess(key, values):\n",
    "    \"\"\"\n",
    "    Returns guess values for the parameters of this function class based on the input. Used for fitting using this\n",
    "    class.\n",
    "    :param key:\n",
    "    :param values:\n",
    "    :return:\n",
    "    \"\"\""
   ]
  },
  {
   "cell_type": "code",
   "execution_count": 3,
   "metadata": {},
   "outputs": [
    {
     "name": "stdout",
     "output_type": "stream",
     "text": [
      "a 1\n",
      "b 2\n",
      "c 3\n"
     ]
    }
   ],
   "source": [
    "mylist = ['a','b','c']\n",
    "mynums = [1,2,3]\n",
    "for num, char in zip(mynums, mylist):\n",
    "    print(char, num)"
   ]
  },
  {
   "cell_type": "code",
   "execution_count": 4,
   "metadata": {},
   "outputs": [],
   "source": [
    "#from fitters.Gaussian import dip, double_dip, bump, bump2, bump3, bump2r, gaussian\n",
    "#from fitters.Gaussian import gaussian_2d"
   ]
  },
  {
   "cell_type": "code",
   "execution_count": 5,
   "metadata": {},
   "outputs": [],
   "source": [
    "\n",
    "photons = 2\n",
    "\n",
    "def getPhotonNumber(mean):\n",
    "    # todo! make this shot noise (poisson) instead of randint noise\n",
    "    return mean + mean*np.random.randint(0,5)\n",
    "    "
   ]
  },
  {
   "cell_type": "code",
   "execution_count": 6,
   "metadata": {},
   "outputs": [],
   "source": [
    "def applyEmGain(electronsIn, gain):\n",
    "    # todo! make this sammple from em gain electron distributions\n",
    "    return electronsIn*gain"
   ]
  },
  {
   "cell_type": "code",
   "execution_count": 7,
   "metadata": {},
   "outputs": [
    {
     "data": {
      "text/plain": [
       "<matplotlib.colorbar.Colorbar at 0x20ef56e0100>"
      ]
     },
     "execution_count": 7,
     "metadata": {},
     "output_type": "execute_result"
    },
    {
     "data": {
      "image/png": "[encoded data removed]",
      "text/plain": [
       "<Figure size 432x288 with 2 Axes>"
      ]
     },
     "metadata": {
      "needs_background": "light"
     },
     "output_type": "display_data"
    }
   ],
   "source": [
    "xp = yp = np.arange(512)\n",
    "XX, YY = np.meshgrid(xp,yp)\n",
    "psi2d = f_noravel((XX,YY), 10, 256, 256, 50, 50, 0, 0)\n",
    "plt.imshow(psi2d)\n",
    "plt.colorbar()"
   ]
  },
  {
   "cell_type": "code",
   "execution_count": 8,
   "metadata": {},
   "outputs": [],
   "source": [
    "def getBlur(row,col):\n",
    "    return 5"
   ]
  },
  {
   "cell_type": "code",
   "execution_count": null,
   "metadata": {},
   "outputs": [],
   "source": []
  },
  {
   "cell_type": "code",
   "execution_count": 9,
   "metadata": {},
   "outputs": [
    {
     "name": "stderr",
     "output_type": "stream",
     "text": [
      "<ipython-input-2-e9a11a3c36fb>:37: RuntimeWarning: invalid value encountered in double_scalars\n",
      "  a = (np.cos(theta)**2)/(2*sigma_x**2) + (np.sin(theta)**2)/(2*sigma_y**2)\n",
      "<ipython-input-2-e9a11a3c36fb>:38: RuntimeWarning: invalid value encountered in double_scalars\n",
      "  b = -(np.sin(2*theta))/(4*sigma_x**2) + (np.sin(2*theta))/(4*sigma_y**2)\n",
      "<ipython-input-2-e9a11a3c36fb>:39: RuntimeWarning: divide by zero encountered in double_scalars\n",
      "  c = (np.sin(theta)**2)/(2*sigma_x**2) + (np.cos(theta)**2)/(2*sigma_y**2)\n",
      "<ipython-input-2-e9a11a3c36fb>:40: RuntimeWarning: invalid value encountered in multiply\n",
      "  g = offset + amplitude*np.exp(- (a*((x-xo)**2) + 2*b*(x-xo)*(y-yo) + c*((y-yo)**2)))\n"
     ]
    },
    {
     "ename": "KeyboardInterrupt",
     "evalue": "",
     "output_type": "error",
     "traceback": [
      "\u001b[1;31m---------------------------------------------------------------------------\u001b[0m",
      "\u001b[1;31mKeyboardInterrupt\u001b[0m                         Traceback (most recent call last)",
      "\u001b[1;32m<ipython-input-9-7c7b5a15f4f3>\u001b[0m in \u001b[0;36m<module>\u001b[1;34m\u001b[0m\n\u001b[0;32m     13\u001b[0m         \u001b[0mnumPhotonsFromLocationInImage\u001b[0m \u001b[1;33m=\u001b[0m \u001b[0mgetPhotonNumber\u001b[0m\u001b[1;33m(\u001b[0m\u001b[0mmeanIntensity\u001b[0m\u001b[1;33m)\u001b[0m\u001b[1;33m\u001b[0m\u001b[1;33m\u001b[0m\u001b[0m\n\u001b[0;32m     14\u001b[0m         \u001b[0mblurAmount\u001b[0m \u001b[1;33m=\u001b[0m \u001b[0mgetBlur\u001b[0m\u001b[1;33m(\u001b[0m\u001b[0mrowi\u001b[0m\u001b[1;33m,\u001b[0m\u001b[0mcoli\u001b[0m\u001b[1;33m)\u001b[0m\u001b[1;33m\u001b[0m\u001b[1;33m\u001b[0m\u001b[0m\n\u001b[1;32m---> 15\u001b[1;33m         \u001b[0mphotonImage\u001b[0m \u001b[1;33m+=\u001b[0m \u001b[0mf_noravel\u001b[0m\u001b[1;33m(\u001b[0m\u001b[1;33m(\u001b[0m\u001b[0mXX\u001b[0m\u001b[1;33m,\u001b[0m\u001b[0mYY\u001b[0m\u001b[1;33m)\u001b[0m\u001b[1;33m,\u001b[0m \u001b[0mrowi\u001b[0m\u001b[1;33m,\u001b[0m \u001b[0mcoli\u001b[0m\u001b[1;33m,\u001b[0m \u001b[0mblurAmount\u001b[0m\u001b[1;33m,\u001b[0m \u001b[0mblurAmount\u001b[0m\u001b[1;33m,\u001b[0m \u001b[1;36m0\u001b[0m\u001b[1;33m,\u001b[0m \u001b[1;36m0\u001b[0m\u001b[1;33m,\u001b[0m \u001b[1;36m0\u001b[0m\u001b[1;33m)\u001b[0m\u001b[1;33m\u001b[0m\u001b[1;33m\u001b[0m\u001b[0m\n\u001b[0m\u001b[0;32m     16\u001b[0m \u001b[1;33m\u001b[0m\u001b[0m\n\u001b[0;32m     17\u001b[0m \u001b[1;33m\u001b[0m\u001b[0m\n",
      "\u001b[1;32m<ipython-input-2-e9a11a3c36fb>\u001b[0m in \u001b[0;36mf_noravel\u001b[1;34m(coordinates, amplitude, xo, yo, sigma_x, sigma_y, theta, offset)\u001b[0m\n\u001b[0;32m     38\u001b[0m     \u001b[0mb\u001b[0m \u001b[1;33m=\u001b[0m \u001b[1;33m-\u001b[0m\u001b[1;33m(\u001b[0m\u001b[0mnp\u001b[0m\u001b[1;33m.\u001b[0m\u001b[0msin\u001b[0m\u001b[1;33m(\u001b[0m\u001b[1;36m2\u001b[0m\u001b[1;33m*\u001b[0m\u001b[0mtheta\u001b[0m\u001b[1;33m)\u001b[0m\u001b[1;33m)\u001b[0m\u001b[1;33m/\u001b[0m\u001b[1;33m(\u001b[0m\u001b[1;36m4\u001b[0m\u001b[1;33m*\u001b[0m\u001b[0msigma_x\u001b[0m\u001b[1;33m**\u001b[0m\u001b[1;36m2\u001b[0m\u001b[1;33m)\u001b[0m \u001b[1;33m+\u001b[0m \u001b[1;33m(\u001b[0m\u001b[0mnp\u001b[0m\u001b[1;33m.\u001b[0m\u001b[0msin\u001b[0m\u001b[1;33m(\u001b[0m\u001b[1;36m2\u001b[0m\u001b[1;33m*\u001b[0m\u001b[0mtheta\u001b[0m\u001b[1;33m)\u001b[0m\u001b[1;33m)\u001b[0m\u001b[1;33m/\u001b[0m\u001b[1;33m(\u001b[0m\u001b[1;36m4\u001b[0m\u001b[1;33m*\u001b[0m\u001b[0msigma_y\u001b[0m\u001b[1;33m**\u001b[0m\u001b[1;36m2\u001b[0m\u001b[1;33m)\u001b[0m\u001b[1;33m\u001b[0m\u001b[1;33m\u001b[0m\u001b[0m\n\u001b[0;32m     39\u001b[0m     \u001b[0mc\u001b[0m \u001b[1;33m=\u001b[0m \u001b[1;33m(\u001b[0m\u001b[0mnp\u001b[0m\u001b[1;33m.\u001b[0m\u001b[0msin\u001b[0m\u001b[1;33m(\u001b[0m\u001b[0mtheta\u001b[0m\u001b[1;33m)\u001b[0m\u001b[1;33m**\u001b[0m\u001b[1;36m2\u001b[0m\u001b[1;33m)\u001b[0m\u001b[1;33m/\u001b[0m\u001b[1;33m(\u001b[0m\u001b[1;36m2\u001b[0m\u001b[1;33m*\u001b[0m\u001b[0msigma_x\u001b[0m\u001b[1;33m**\u001b[0m\u001b[1;36m2\u001b[0m\u001b[1;33m)\u001b[0m \u001b[1;33m+\u001b[0m \u001b[1;33m(\u001b[0m\u001b[0mnp\u001b[0m\u001b[1;33m.\u001b[0m\u001b[0mcos\u001b[0m\u001b[1;33m(\u001b[0m\u001b[0mtheta\u001b[0m\u001b[1;33m)\u001b[0m\u001b[1;33m**\u001b[0m\u001b[1;36m2\u001b[0m\u001b[1;33m)\u001b[0m\u001b[1;33m/\u001b[0m\u001b[1;33m(\u001b[0m\u001b[1;36m2\u001b[0m\u001b[1;33m*\u001b[0m\u001b[0msigma_y\u001b[0m\u001b[1;33m**\u001b[0m\u001b[1;36m2\u001b[0m\u001b[1;33m)\u001b[0m\u001b[1;33m\u001b[0m\u001b[1;33m\u001b[0m\u001b[0m\n\u001b[1;32m---> 40\u001b[1;33m     \u001b[0mg\u001b[0m \u001b[1;33m=\u001b[0m \u001b[0moffset\u001b[0m \u001b[1;33m+\u001b[0m \u001b[0mamplitude\u001b[0m\u001b[1;33m*\u001b[0m\u001b[0mnp\u001b[0m\u001b[1;33m.\u001b[0m\u001b[0mexp\u001b[0m\u001b[1;33m(\u001b[0m\u001b[1;33m-\u001b[0m \u001b[1;33m(\u001b[0m\u001b[0ma\u001b[0m\u001b[1;33m*\u001b[0m\u001b[1;33m(\u001b[0m\u001b[1;33m(\u001b[0m\u001b[0mx\u001b[0m\u001b[1;33m-\u001b[0m\u001b[0mxo\u001b[0m\u001b[1;33m)\u001b[0m\u001b[1;33m**\u001b[0m\u001b[1;36m2\u001b[0m\u001b[1;33m)\u001b[0m \u001b[1;33m+\u001b[0m \u001b[1;36m2\u001b[0m\u001b[1;33m*\u001b[0m\u001b[0mb\u001b[0m\u001b[1;33m*\u001b[0m\u001b[1;33m(\u001b[0m\u001b[0mx\u001b[0m\u001b[1;33m-\u001b[0m\u001b[0mxo\u001b[0m\u001b[1;33m)\u001b[0m\u001b[1;33m*\u001b[0m\u001b[1;33m(\u001b[0m\u001b[0my\u001b[0m\u001b[1;33m-\u001b[0m\u001b[0myo\u001b[0m\u001b[1;33m)\u001b[0m \u001b[1;33m+\u001b[0m \u001b[0mc\u001b[0m\u001b[1;33m*\u001b[0m\u001b[1;33m(\u001b[0m\u001b[1;33m(\u001b[0m\u001b[0my\u001b[0m\u001b[1;33m-\u001b[0m\u001b[0myo\u001b[0m\u001b[1;33m)\u001b[0m\u001b[1;33m**\u001b[0m\u001b[1;36m2\u001b[0m\u001b[1;33m)\u001b[0m\u001b[1;33m)\u001b[0m\u001b[1;33m)\u001b[0m\u001b[1;33m\u001b[0m\u001b[1;33m\u001b[0m\u001b[0m\n\u001b[0m\u001b[0;32m     41\u001b[0m     \u001b[1;32mreturn\u001b[0m \u001b[0mg\u001b[0m\u001b[1;33m\u001b[0m\u001b[1;33m\u001b[0m\u001b[0m\n\u001b[0;32m     42\u001b[0m \u001b[1;33m\u001b[0m\u001b[0m\n",
      "\u001b[1;31mKeyboardInterrupt\u001b[0m: "
     ]
    }
   ],
   "source": [
    "photonImage = np.zeros((512,512))\n",
    "image = np.zeros((512,512))\n",
    "#image += psi2d\n",
    "readoutnoiseMagnitude = 0\n",
    "QE = 0.9\n",
    "emGainSetting = 1000\n",
    "\n",
    "# determine how many electrons are on a pixel\n",
    "for rowi, row in enumerate(image):\n",
    "    for coli, col in enumerate(row):\n",
    "        # determine if photon\n",
    "        meanIntensity = psi2d[rowi,coli]\n",
    "        numPhotonsFromLocationInImage = getPhotonNumber(meanIntensity)\n",
    "        blurAmount = getBlur(rowi,coli)\n",
    "        photonImage += f_noravel((XX,YY), rowi, coli, blurAmount, blurAmount, 0, 0, 0)\n",
    "        \n",
    "\n",
    "# apply noise       \n",
    "for rowi, row in enumerate(image):\n",
    "    for coli, col in enumerate(row):\n",
    "        numPhotons = photonImage[rowi,coli]\n",
    "        numelectons = numPhotons * QE\n",
    "        numberElectronsReadout = applyEmGain(numelectons, emGainSetting)\n",
    "        image[rowi,coli] += numberElectronsReadout\n",
    "\n",
    "        if readoutnoiseMagnitude != 0:\n",
    "            image[rowi,coli] += np.random.randint(readoutnoiseMagnitude)"
   ]
  },
  {
   "cell_type": "code",
   "execution_count": null,
   "metadata": {},
   "outputs": [],
   "source": [
    "plt.imshow(image)\n",
    "plt.colorbar()"
   ]
  },
  {
   "cell_type": "code",
   "execution_count": null,
   "metadata": {},
   "outputs": [],
   "source": []
  }
 ],
 "metadata": {
  "kernelspec": {
   "display_name": "Python 3",
   "language": "python",
   "name": "python3"
  },
  "language_info": {
   "codemirror_mode": {
    "name": "ipython",
    "version": 3
   },
   "file_extension": ".py",
   "mimetype": "text/x-python",
   "name": "python",
   "nbconvert_exporter": "python",
   "pygments_lexer": "ipython3",
   "version": "3.8.3"
  }
 },
 "nbformat": 4,
 "nbformat_minor": 4
}
