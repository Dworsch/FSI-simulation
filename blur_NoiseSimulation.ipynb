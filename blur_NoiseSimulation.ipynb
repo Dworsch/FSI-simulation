{
 "cells": [
  {
   "cell_type": "code",
   "execution_count": 1,
   "metadata": {},
   "outputs": [],
   "source": [
    "import numpy as np\n",
    "import matplotlib.pyplot as plt\n",
    "import random\n",
    "import IPython\n",
    "from mpl_toolkits.axes_grid1 import make_axes_locatable\n",
    "from misc import reportProgress\n",
    "from scipy.ndimage.filters import gaussian_filter\n",
    "from misc import round_sig_str as round_sig_str\n",
    "import misc"
   ]
  },
  {
   "cell_type": "code",
   "execution_count": 2,
   "metadata": {},
   "outputs": [],
   "source": [
    "avgPhotonsPerImage = 15\n",
    "QE = 0.9\n",
    "darkElectronChance = 0.0003\n",
    "seed = random.randint(1,70)\n",
    "rs = np.random.RandomState(seed)\n",
    "size = 32\n",
    "#center of array\n",
    "p0=int(size/2)\n",
    "h_pixelsInBin = 2\n",
    "v_pixelsInBin = 2\n",
    "minBlur = 1\n",
    "fovSize = 10\n"
   ]
  },
  {
   "cell_type": "code",
   "execution_count": 3,
   "metadata": {},
   "outputs": [],
   "source": [
    "def reportProgress(num, total):\n",
    "    print( round_sig_str(num/total*100) + '%                     ',  end='\\r' )\n",
    "    IPython.display.clear_output(wait=True)"
   ]
  },
  {
   "cell_type": "code",
   "execution_count": 4,
   "metadata": {},
   "outputs": [],
   "source": [
    "def gaus(x, m, s):\n",
    "    return (1/(s*np.sqrt(2*np.pi))*np.exp(-(x-m)**2/(2*s**2)))                            \n",
    "\n",
    "xx, yy = np.meshgrid(np.arange(size), np.arange(size))\n",
    "gaus2d = avgPhotonsPerImage*gaus(xx, p0, 2)*gaus(yy, p0, 2)"
   ]
  },
  {
   "cell_type": "code",
   "execution_count": 5,
   "metadata": {},
   "outputs": [],
   "source": [
    "x = np.arange(1000)\n",
    "\n",
    "def gain(x): \n",
    "    return np.exp(-0.009*x)\n",
    "\n",
    "gain_pdf=gain(x)\n",
    "\n",
    "#print(np.random.choice(x, p=gain_pdf/sum(gain_pdf)))"
   ]
  },
  {
   "cell_type": "code",
   "execution_count": 6,
   "metadata": {},
   "outputs": [],
   "source": [
    "def getFilterSigma(x,y,p0,minBlur,fovSize):\n",
    "    return (1/fovSize)*((x-p0)**2+(y-p0)**2)+minBlur"
   ]
  },
  {
   "cell_type": "code",
   "execution_count": 7,
   "metadata": {},
   "outputs": [],
   "source": [
    "def filterGaussian(intensityDist, x0, y0, sigma):\n",
    "    def eqn(x, x0, sigma):\n",
    "        return 1/(sigma*np.sqrt(2*np.pi))*np.exp(-((x-x0)**2/(2*sigma**2)))\n",
    "    gaus_2d = eqn(xx, x0, sigma)*eqn(yy, y0, sigma)\n",
    "    return gaus_2d*intensityDist"
   ]
  },
  {
   "cell_type": "code",
   "execution_count": 8,
   "metadata": {},
   "outputs": [],
   "source": [
    "def bins(originalImage, pixelsInBin):\n",
    "    binned = []\n",
    "    for rowi, row in enumerate(originalImage):\n",
    "        for coli in range(0, len(row), pixelsInBin):\n",
    "            binned.append(singleBinH(originalImage, rowi, coli, pixelsInBin))\n",
    "        \n",
    "\n",
    "    floats = [float(m) for m in binned]\n",
    "    binning = np.reshape(floats, (originalImage.shape[0],int(originalImage.shape[1]/pixelsInBin))) \n",
    "    \n",
    "    return binning"
   ]
  },
  {
   "cell_type": "code",
   "execution_count": 9,
   "metadata": {},
   "outputs": [],
   "source": [
    "def bin2D(originalImage, hPixelsInBin, vPixelsInBin):\n",
    "    \n",
    "    #12x15\n",
    "    #hbinning=3, vbinning = 4\n",
    "    #result: 3x5\n",
    "    \n",
    "    hBinnedImage = bins(originalImage, hPixelsInBin)\n",
    "    #print(hBinnedImage.shape, 'h')\n",
    "    #12x5\n",
    "    transposed = np.array(misc.transpose(hBinnedImage))\n",
    "    #print(transposed.shape, 't')\n",
    "    #5x12\n",
    "    vBinnedImage = bins(transposed, vPixelsInBin)\n",
    "    #print(vBinnedImage.shape, 'v')\n",
    "    #5x3\n",
    "    bothBinned = np.array(misc.transpose(vBinnedImage))\n",
    "    #print(bothBinned.shape, 'f')\n",
    "    \n",
    "    return bothBinned "
   ]
  },
  {
   "cell_type": "code",
   "execution_count": 10,
   "metadata": {},
   "outputs": [],
   "source": [
    "def singleBinH(originalImage, rowi, coli, pixelsInBin): \n",
    "    return sum(originalImage[rowi, coli:coli+pixelsInBin])"
   ]
  },
  {
   "cell_type": "code",
   "execution_count": 11,
   "metadata": {},
   "outputs": [],
   "source": [
    "def getSimulatedImage():\n",
    "    \n",
    "    image = np.zeros((size, size))\n",
    "    photonImage = np.zeros((size, size))\n",
    "    blurred = np.zeros((size,size))\n",
    "    newImage = np.zeros((int(size/h_pixelsInBin), int(size/v_pixelsInBin)))\n",
    "    \n",
    "    #Blur the Gaussian-distributed photon image   \n",
    " #   for rowi, row in enumerate(image):\n",
    "  #      for coli, col in enumerate(row):\n",
    "   #         intensityDist = gaus2d[rowi, coli]\n",
    "    #        filterSigma = getFilterSigma(rowi, coli, p0, minBlur, fovSize)\n",
    "     #       blurred += filterGaussian(intensityDist, x0=rowi, y0=coli, sigma=filterSigma)\n",
    "            \n",
    "    #This loop applies a Poisson-distributed shotnoise.        \n",
    "    for rowi, row in enumerate(image):\n",
    "        for coli, col in enumerate(row):\n",
    "            #sample from blurred gaussian\n",
    "            meanIntensity = gaus2d[rowi, coli]\n",
    "            shotnoise = rs.poisson(meanIntensity)\n",
    "            photonImage[rowi, coli] += shotnoise\n",
    "            \n",
    "    #This loops calculates number of electrons accounting for QE, dark electrons, EM gain noise, and readout noise.\n",
    "    for rowi, row in enumerate(image):\n",
    "        for coli, col in enumerate(row):\n",
    "            numPhotons = photonImage[rowi, coli]\n",
    "            numElectrons = numPhotons*QE\n",
    "            #random chance to find a \"Dark electron\"           \n",
    "            if np.random.random() < darkElectronChance:\n",
    "                numElectrons += 1    \n",
    "                \n",
    "           # photonImage[rowi, coli] +=numElectrons\n",
    "                \n",
    "         \n",
    "             \n",
    " \n",
    "        #EM gain amplification: using 1 distribution, sampling from it as many times as there are electrons on a pixel.\n",
    "            if numElectrons == 0:\n",
    "                electronsGained = 0\n",
    "            elif numElectrons == 1:\n",
    "                ElectronsOut = np.random.choice(x, p=gain_pdf/sum(gain_pdf))\n",
    "                electronsGained = ElectronsOut\n",
    "            else:\n",
    "                ElectronsOut = np.random.choice(x, size=int(numElectrons), p=gain_pdf/sum(gain_pdf))\n",
    "                electronsGained = sum(ElectronsOut)\n",
    "            photonImage[rowi, coli] += electronsGained\n",
    "            previousNoise = photonImage[rowi, coli]\n",
    " #camera binning in 2D\n",
    "    h_v_binned = bin2D(photonImage, h_pixelsInBin, v_pixelsInBin)   \n",
    "    for rowi, row in enumerate(h_v_binned):\n",
    "        for coli, col in enumerate(row):   \n",
    "            \n",
    "            readOutNoise = np.random.randint(0, 20)\n",
    "            #counts = readOutNoise\n",
    "\n",
    "            h_v_binned[rowi, coli] += readOutNoise\n",
    "            \n",
    "    return h_v_binned"
   ]
  },
  {
   "cell_type": "code",
   "execution_count": 12,
   "metadata": {},
   "outputs": [
    {
     "data": {
      "image/png": "[encoded data removed]",
      "text/plain": [
       "<Figure size 1080x1080 with 8 Axes>"
      ]
     },
     "metadata": {
      "needs_background": "light"
     },
     "output_type": "display_data"
    }
   ],
   "source": [
    "imageSeries = []\n",
    "\n",
    "for imageNum in range(100):\n",
    "    imageSeries.append(getSimulatedImage())\n",
    "    reportProgress(imageNum, 100)\n",
    "\n",
    "avgImage3 = np.mean(imageSeries [:3], 0)\n",
    "avgImage25 = np.mean(imageSeries [:25], 0)\n",
    "avgImage50 = np.mean(imageSeries [:75], 0)\n",
    "avgImage = np.mean(imageSeries,0)\n",
    "\n",
    "\n",
    "normalizedImage3 = avgImage3/(111**2)\n",
    "normalizedImage25 = avgImage25/(111**2)\n",
    "normalizedImage50 = avgImage50/(111**2)\n",
    "normalizedImage = avgImage/(111**2)\n",
    "\n",
    "fig, (ax0, ax1, ax2, ax3) = plt.subplots(ncols=4, figsize=[15, 15])\n",
    "\n",
    "img0 = ax0.imshow(normalizedImage3)\n",
    "ax0.set_title('average of 3 images')\n",
    "\n",
    "divider = make_axes_locatable(ax0)\n",
    "cax = divider.append_axes(\"right\", size=\"10%\", pad=0.10)\n",
    "cb0 = plt.colorbar(img0, cax=cax)\n",
    "\n",
    "img1 = ax1.imshow(normalizedImage25)\n",
    "ax1.set_xticks([])\n",
    "ax1.set_yticks([])\n",
    "ax1.set_title('average of 25 images')\n",
    "\n",
    "divider = make_axes_locatable(ax1)\n",
    "cax = divider.append_axes(\"right\", size=\"10%\", pad=0.10)\n",
    "cb = plt.colorbar(img1, cax=cax)\n",
    "\n",
    "img2 = ax2.imshow(normalizedImage50)\n",
    "ax2.set_xticks([])\n",
    "ax2.set_yticks([])\n",
    "ax2.set_title('average of 50 images')\n",
    "\n",
    "divider = make_axes_locatable(ax2)\n",
    "cax = divider.append_axes(\"right\", size=\"10%\", pad=0.10)\n",
    "cb = plt.colorbar(img2, cax=cax)\n",
    "\n",
    "img3 = ax3.imshow(normalizedImage)\n",
    "ax3.set_xticks([])\n",
    "ax3.set_yticks([])\n",
    "ax3.set_title('average of all images')\n",
    "\n",
    "divider = make_axes_locatable(ax3)\n",
    "cax = divider.append_axes(\"right\", size=\"10%\", pad=0.10)\n",
    "cb = plt.colorbar(img3, cax=cax)\n",
    "\n",
    "plt.show()"
   ]
  },
  {
   "cell_type": "code",
   "execution_count": null,
   "metadata": {},
   "outputs": [],
   "source": []
  }
 ],
 "metadata": {
  "kernelspec": {
   "display_name": "Python 3",
   "language": "python",
   "name": "python3"
  },
  "language_info": {
   "codemirror_mode": {
    "name": "ipython",
    "version": 3
   },
   "file_extension": ".py",
   "mimetype": "text/x-python",
   "name": "python",
   "nbconvert_exporter": "python",
   "pygments_lexer": "ipython3",
   "version": "3.8.3"
  }
 },
 "nbformat": 4,
 "nbformat_minor": 4
}
