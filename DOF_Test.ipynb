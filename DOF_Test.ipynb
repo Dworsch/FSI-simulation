{
 "cells": [
  {
   "cell_type": "code",
   "execution_count": 1,
   "metadata": {},
   "outputs": [],
   "source": [
    "import numpy as np\n",
    "import matplotlib.pyplot as plt\n",
    "from mpl_toolkits.mplot3d import Axes3D\n",
    "import matplotlib.pyplot as plt\n",
    "from mpl_toolkits.axes_grid1 import make_axes_locatable"
   ]
  },
  {
   "cell_type": "code",
   "execution_count": 2,
   "metadata": {},
   "outputs": [],
   "source": [
    "avgPhotonsPerImage = 10\n",
    "axisSize=75\n",
    "width = 5\n",
    "sigma = 1\n",
    "p0=int(axisSize/2)\n",
    "minBlur = 1\n",
    "fovSize = 10"
   ]
  },
  {
   "cell_type": "markdown",
   "metadata": {},
   "source": [
    "R=(n*naught)/NA\n",
    "NA=sin(theta/2)\n",
    "theta = lambda/(pi*n*naught)\n",
    "waistSpotSize = (2*lambda*F)/(pi*d)"
   ]
  },
  {
   "cell_type": "markdown",
   "metadata": {},
   "source": [
    "idea: Now that I have a 3D object simulated, I should figure out how the edges/bounds of that objecta are affected \n",
    "when the image travels through optics. The lenses in the system introduce blur and there is a certain depth of\n",
    "field limit. The waist, image location, and DOF are related. I should figure out how to simulate the DOF and therefore amount of extra blur introduced to the object being imaged. But remember, this is just the image, not the actual object. MY understanding is that I wanted to find DOF in order to calculate by how much I should blur the simulated image. Now my question is, how does this tell me how much to blur an image?\n",
    "\n",
    "goal: find the location of the waist to determine how large the image should be?\n",
    "\n",
    "ftn that finds projected image location (thin lens eq, arguments should be lens focal length, distance to object?)\n",
    "ftn that finds location of waist (take other output as input, also ??? , )"
   ]
  },
  {
   "cell_type": "code",
   "execution_count": 1,
   "metadata": {},
   "outputs": [],
   "source": [
    "def MEqn(object_distance, focal_length):\n",
    "    image_loc = 1/((1/focal_length)-(1/object_distance))\n",
    "    return image_loc"
   ]
  },
  {
   "cell_type": "code",
   "execution_count": null,
   "metadata": {},
   "outputs": [],
   "source": [
    "def waist(image_loc): \n",
    "    "
   ]
  },
  {
   "cell_type": "code",
   "execution_count": 8,
   "metadata": {},
   "outputs": [],
   "source": [
    "#def DOF(image, whichSlice):\n",
    "def getFilterSigma(fx,fy,xp0, yp0,minBlurParam,fovSizeParam, whichSlice):\n",
    "    return (1/fovSize**2)*((fx-xp0)**2+(fy-yp0)**2)+minBlur#+waistFtn(whichSlice)\n",
    "    \n",
    "def gaussian(intensity, x0, y0, sigma):\n",
    "    x_values = np.arange(0, axisSize, 1)\n",
    "    X, Y = np.meshgrid(x_values, x_values)\n",
    "    return ((intensity)/(2*np.pi*(sigma**2))*np.exp(-(((X-x0)**2)+(Y-y0)**2)/(2*sigma**2)))\n",
    "     \n",
    "result = np.zeros((axisSize,axisSize))\n",
    "    \n",
    "for rowi, row in enumerate(result):\n",
    "    for coli in range(0, len(row), 1):\n",
    "        filterSigma = getFilterSigma(rowi, coli, p0, p0, minBlur, fovSize, coli)\n",
    "        intensityDist = result[rowi, coli]\n",
    "        result += gaussian(intensityDist, coli, rowi, filterSigma)\n",
    "        \n",
    "   # return result"
   ]
  },
  {
   "cell_type": "code",
   "execution_count": 9,
   "metadata": {},
   "outputs": [],
   "source": [
    "def gaus(x, m, s):\n",
    "    return (1/(s*np.sqrt(2*np.pi))*np.exp(-(x-m)**2/(2*s**2)))                            \n",
    "\n",
    "xx, yy, zz = np.meshgrid(np.arange(axisSize), np.arange(axisSize), np.arange(axisSize))\n",
    "gaus3d = avgPhotonsPerImage*gaus(xx, p0, width)*gaus(yy, p0, width)*gaus(zz, p0, width)"
   ]
  },
  {
   "cell_type": "code",
   "execution_count": 18,
   "metadata": {},
   "outputs": [
    {
     "data": {
      "text/plain": [
       "<matplotlib.colorbar.Colorbar at 0x1f1040ac670>"
      ]
     },
     "execution_count": 18,
     "metadata": {},
     "output_type": "execute_result"
    },
    {
     "data": {
      "image/png": "[encoded data removed]",
      "text/plain": [
       "<Figure size 432x288 with 2 Axes>"
      ]
     },
     "metadata": {
      "needs_background": "light"
     },
     "output_type": "display_data"
    }
   ],
   "source": [
    "plt.imshow(gaus3d[:,2])\n",
    "plt.colorbar()"
   ]
  },
  {
   "cell_type": "code",
   "execution_count": 7,
   "metadata": {},
   "outputs": [
    {
     "ename": "NameError",
     "evalue": "name 'slicer' is not defined",
     "output_type": "error",
     "traceback": [
      "\u001b[1;31m---------------------------------------------------------------------------\u001b[0m",
      "\u001b[1;31mNameError\u001b[0m                                 Traceback (most recent call last)",
      "\u001b[1;32m<ipython-input-7-06e27932f822>\u001b[0m in \u001b[0;36m<module>\u001b[1;34m\u001b[0m\n\u001b[1;32m----> 1\u001b[1;33m \u001b[0mavgImage\u001b[0m \u001b[1;33m=\u001b[0m \u001b[0mslicer\u001b[0m\u001b[1;33m(\u001b[0m\u001b[0mgaus3d\u001b[0m\u001b[1;33m)\u001b[0m\u001b[1;33m\u001b[0m\u001b[1;33m\u001b[0m\u001b[0m\n\u001b[0m\u001b[0;32m      2\u001b[0m \u001b[0mavgImage2\u001b[0m \u001b[1;33m=\u001b[0m \u001b[0mloaf\u001b[0m\u001b[1;33m[\u001b[0m\u001b[1;36m0\u001b[0m\u001b[1;33m]\u001b[0m\u001b[1;33m\u001b[0m\u001b[1;33m\u001b[0m\u001b[0m\n\u001b[0;32m      3\u001b[0m \u001b[0mavgImage3\u001b[0m \u001b[1;33m=\u001b[0m \u001b[0mloaf\u001b[0m\u001b[1;33m[\u001b[0m\u001b[1;36m2\u001b[0m\u001b[1;33m]\u001b[0m\u001b[1;33m\u001b[0m\u001b[1;33m\u001b[0m\u001b[0m\n\u001b[0;32m      4\u001b[0m \u001b[0mavgImage4\u001b[0m \u001b[1;33m=\u001b[0m \u001b[0mslicer\u001b[0m\u001b[1;33m(\u001b[0m\u001b[0mgaus3d\u001b[0m\u001b[1;33m)\u001b[0m\u001b[1;33m\u001b[0m\u001b[1;33m\u001b[0m\u001b[0m\n\u001b[0;32m      5\u001b[0m \u001b[1;33m\u001b[0m\u001b[0m\n",
      "\u001b[1;31mNameError\u001b[0m: name 'slicer' is not defined"
     ]
    }
   ],
   "source": [
    "avgImage = slicer(gaus3d)\n",
    "avgImage2 = loaf[0]\n",
    "avgImage3 = loaf[2]\n",
    "avgImage4 = slicer(gaus3d)\n",
    "\n",
    "fig, (ax0, ax1, ax2, ax3) = plt.subplots(ncols=4, figsize=[15, 15])\n",
    "\n",
    "img0 = ax0.imshow(avgImage)\n",
    "#ax0.set_title('first 10 images averaged')\n",
    "\n",
    "divider = make_axes_locatable(ax0)\n",
    "cax = divider.append_axes(\"right\", size=\"10%\", pad=0.10)\n",
    "cb0 = plt.colorbar(img0, cax=cax)\n",
    "\n",
    "img1 = ax1.imshow(avgImage2)\n",
    "ax1.set_xticks([])\n",
    "ax1.set_yticks([])\n",
    "#ax1.set_title('first 50 images averaged')\n",
    "\n",
    "divider = make_axes_locatable(ax1)\n",
    "cax = divider.append_axes(\"right\", size=\"10%\", pad=0.10)\n",
    "cb = plt.colorbar(img1, cax=cax)\n",
    "\n",
    "img2 = ax2.imshow(avgImage3)\n",
    "ax2.set_xticks([])\n",
    "ax2.set_yticks([])\n",
    "#ax2.set_title('first 150 images averaged')\n",
    "\n",
    "divider = make_axes_locatable(ax2)\n",
    "cax = divider.append_axes(\"right\", size=\"10%\", pad=0.10)\n",
    "cb = plt.colorbar(img2, cax=cax)\n",
    "\n",
    "img3 = ax3.imshow(avgImage4)\n",
    "ax3.set_xticks([])\n",
    "ax3.set_yticks([])\n",
    "#ax3.set_title('all 400 images averaged')\n",
    "\n",
    "divider = make_axes_locatable(ax3)\n",
    "cax = divider.append_axes(\"right\", size=\"10%\", pad=0.10)\n",
    "cb = plt.colorbar(img3, cax=cax)\n",
    "\n",
    "plt.show()"
   ]
  },
  {
   "cell_type": "markdown",
   "metadata": {},
   "source": [
    "for each slice in gaus3d:\n",
    "    print slice\n",
    "    apply blur to slice \n",
    "    put blurred slice in list\n",
    "    \n",
    "average each element in blurred slice list\n",
    "show the result\n",
    "\n",
    "\n",
    "\n",
    "toast0 = gaus3d[0]\n",
    "toast1 = gaus3d[1]\n",
    "toast2 = gaus3d[2]\n",
    "toast3 = gaus3d[3]\n",
    "print(toast0, toast1, toast2)"
   ]
  }
 ],
 "metadata": {
  "kernelspec": {
   "display_name": "Python 3",
   "language": "python",
   "name": "python3"
  },
  "language_info": {
   "codemirror_mode": {
    "name": "ipython",
    "version": 3
   },
   "file_extension": ".py",
   "mimetype": "text/x-python",
   "name": "python",
   "nbconvert_exporter": "python",
   "pygments_lexer": "ipython3",
   "version": "3.8.3"
  }
 },
 "nbformat": 4,
 "nbformat_minor": 4
}
