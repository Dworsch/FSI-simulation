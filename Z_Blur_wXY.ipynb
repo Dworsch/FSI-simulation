{
 "cells": [
  {
   "cell_type": "code",
   "execution_count": 2,
   "metadata": {},
   "outputs": [
    {
     "ename": "ImportError",
     "evalue": "cannot import name 'gaussianFilter' from 'GaussianFilter' (C:\\Users\\wdwor\\Documents\\Simulation\\GaussianFilter.py)",
     "output_type": "error",
     "traceback": [
      "\u001b[1;31m---------------------------------------------------------------------------\u001b[0m",
      "\u001b[1;31mImportError\u001b[0m                               Traceback (most recent call last)",
      "\u001b[1;32m<ipython-input-2-a0384e964329>\u001b[0m in \u001b[0;36m<module>\u001b[1;34m\u001b[0m\n\u001b[0;32m      8\u001b[0m \u001b[1;32mfrom\u001b[0m \u001b[0mmisc\u001b[0m \u001b[1;32mimport\u001b[0m \u001b[0mround_sig_str\u001b[0m \u001b[1;32mas\u001b[0m \u001b[0mround_sig_str\u001b[0m\u001b[1;33m\u001b[0m\u001b[1;33m\u001b[0m\u001b[0m\n\u001b[0;32m      9\u001b[0m \u001b[1;32mimport\u001b[0m \u001b[0mmisc\u001b[0m\u001b[1;33m\u001b[0m\u001b[1;33m\u001b[0m\u001b[0m\n\u001b[1;32m---> 10\u001b[1;33m \u001b[1;32mfrom\u001b[0m \u001b[0mGaussianFilter\u001b[0m \u001b[1;32mimport\u001b[0m \u001b[0mgaussianFilter\u001b[0m\u001b[1;33m\u001b[0m\u001b[1;33m\u001b[0m\u001b[0m\n\u001b[0m\u001b[0;32m     11\u001b[0m \u001b[1;32mfrom\u001b[0m \u001b[0mminBlur\u001b[0m \u001b[1;32mimport\u001b[0m \u001b[0mminBlur\u001b[0m\u001b[1;33m\u001b[0m\u001b[1;33m\u001b[0m\u001b[0m\n",
      "\u001b[1;31mImportError\u001b[0m: cannot import name 'gaussianFilter' from 'GaussianFilter' (C:\\Users\\wdwor\\Documents\\Simulation\\GaussianFilter.py)"
     ]
    }
   ],
   "source": [
    "import numpy as np\n",
    "import matplotlib.pyplot as plt\n",
    "import random\n",
    "import IPython\n",
    "from mpl_toolkits.axes_grid1 import make_axes_locatable\n",
    "from misc import reportProgress\n",
    "from scipy.ndimage.filters import gaussian_filter\n",
    "from misc import round_sig_str as round_sig_str\n",
    "import misc\n",
    "from GaussianFilter import gaussianFilter\n",
    "from minBlur import minBlur"
   ]
  },
  {
   "cell_type": "code",
   "execution_count": 3,
   "metadata": {},
   "outputs": [],
   "source": [
    "avgPhotonsPerImage = 50\n",
    "QE = 0.9\n",
    "darkElectronChance = 0.0003\n",
    "seed = random.randint(1,70)\n",
    "rs = np.random.RandomState(seed)\n",
    "size = 10\n",
    "#center of array\n",
    "p0=int(size/2)\n",
    "h_pixelsInBin = 2\n",
    "v_pixelsInBin = 2\n",
    "fovSize = 10\n"
   ]
  },
  {
   "cell_type": "code",
   "execution_count": 4,
   "metadata": {},
   "outputs": [],
   "source": [
    "def gaus(x, m, s):\n",
    "    return (1/(s*np.sqrt(2*np.pi))*np.exp(-(x-m)**2/(2*s**2)))                            \n",
    "\n",
    "xx, yy, zz = np.meshgrid(np.arange(size), np.arange(size), np.arange(size))\n",
    "gaus3d = avgPhotonsPerImage*gaus(xx, p0, 2)*gaus(yy, p0, 2)*gaus(zz, p0, 2)"
   ]
  },
  {
   "cell_type": "code",
   "execution_count": 10,
   "metadata": {},
   "outputs": [],
   "source": [
    "def gaussian(intensity, x0, y0, sigma):\n",
    "        x_values = np.arange(0, size, 1)\n",
    "        X, Y = np.meshgrid(x_values, x_values)\n",
    "        return ((intensity)/(2*np.pi*(sigma**2))*np.exp(-(((X-x0)**2)+(Y-y0)**2)/(2*sigma**2)))"
   ]
  },
  {
   "cell_type": "code",
   "execution_count": 11,
   "metadata": {},
   "outputs": [],
   "source": [
    "resImage = np.zeros((size,size))"
   ]
  },
  {
   "cell_type": "code",
   "execution_count": null,
   "metadata": {},
   "outputs": [],
   "source": [
    "def zBlur(input3D):\n",
    "    for zSlice in range(0, len(row), 1):\n",
    "        filterSigma = getFilterSigma(rowi, coli, p0, p0, minBlur, fovSize)\n",
    "        intensityDist = image[rowi, coli]\n",
    "        result += gaussian(intensityDist, coli, rowi, filterSigma)\n",
    "    return "
   ]
  },
  {
   "cell_type": "code",
   "execution_count": 16,
   "metadata": {},
   "outputs": [],
   "source": [
    "def slicer(input3D):\n",
    "    \n",
    "    all2DSlices = [input3D[i] for i in range(0,size)]\n",
    "    blurrySlices=[]\n",
    "\n",
    "    for j in range(0,len(all2DSlices)):\n",
    "        xyBlurrySlice = gaussianFilter(all2DSlices[j], size, p0, minBlur, fovSize)\n",
    "        xyzBlurredSlice = zBlur(j, )\n",
    "        blurrySlices.append(xyblurrySlice)\n",
    "\n",
    "    blurrySlicesAvg = sum(blurrySlices)/len(blurrySlices)\n",
    "    \n",
    "    return blurrySlicesAvg"
   ]
  },
  {
   "cell_type": "code",
   "execution_count": 17,
   "metadata": {},
   "outputs": [
    {
     "data": {
      "text/plain": [
       "<matplotlib.image.AxesImage at 0x1ea2044d880>"
      ]
     },
     "execution_count": 17,
     "metadata": {},
     "output_type": "execute_result"
    },
    {
     "data": {
      "image/png": "[encoded data removed]",
      "text/plain": [
       "<Figure size 432x288 with 1 Axes>"
      ]
     },
     "metadata": {
      "needs_background": "light"
     },
     "output_type": "display_data"
    }
   ],
   "source": [
    "blurredPhotonImage = slicer(gaus3d)\n",
    "plt.imshow(blurredPhotonImage)"
   ]
  },
  {
   "cell_type": "code",
   "execution_count": null,
   "metadata": {},
   "outputs": [],
   "source": []
  }
 ],
 "metadata": {
  "kernelspec": {
   "display_name": "Python 3",
   "language": "python",
   "name": "python3"
  },
  "language_info": {
   "codemirror_mode": {
    "name": "ipython",
    "version": 3
   },
   "file_extension": ".py",
   "mimetype": "text/x-python",
   "name": "python",
   "nbconvert_exporter": "python",
   "pygments_lexer": "ipython3",
   "version": "3.8.3"
  }
 },
 "nbformat": 4,
 "nbformat_minor": 4
}
